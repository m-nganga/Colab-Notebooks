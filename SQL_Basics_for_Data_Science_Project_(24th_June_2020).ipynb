{
  "nbformat": 4,
  "nbformat_minor": 0,
  "metadata": {
    "colab": {
      "name": "SQL Basics for Data Science: Project (24th June 2020)",
      "provenance": [],
      "collapsed_sections": [
        "EC-xadaztZZb",
        "CegoZ0RItxwY",
        "ylHCLsnouGXH",
        "UcO2iuQqtgsb",
        "vdIJCFwIwdKC",
        "EQWoOWiQwyyn",
        "yn9i3BG6xt3W"
      ],
      "include_colab_link": true
    },
    "kernelspec": {
      "name": "python3",
      "display_name": "Python 3"
    }
  },
  "cells": [
    {
      "cell_type": "markdown",
      "metadata": {
        "id": "view-in-github",
        "colab_type": "text"
      },
      "source": [
        "<a href=\"https://colab.research.google.com/github/m-nganga/Colab-Notebooks/blob/master/SQL_Basics_for_Data_Science_Project_(24th_June_2020).ipynb\" target=\"_parent\"><img src=\"https://colab.research.google.com/assets/colab-badge.svg\" alt=\"Open In Colab\"/></a>"
      ]
    },
    {
      "cell_type": "markdown",
      "metadata": {
        "id": "2YQMPI01tPZI",
        "colab_type": "text"
      },
      "source": [
        "# SQL Basics for Data Science: Workshop Project (24th June 2020)"
      ]
    },
    {
      "cell_type": "markdown",
      "metadata": {
        "id": "EC-xadaztZZb",
        "colab_type": "text"
      },
      "source": [
        "## Project Deliverable \n"
      ]
    },
    {
      "cell_type": "markdown",
      "metadata": {
        "id": "RKVwqBp4tb0f",
        "colab_type": "text"
      },
      "source": [
        "* Project solution crafted after the analysis of the business situation herebelow."
      ]
    },
    {
      "cell_type": "markdown",
      "metadata": {
        "id": "ugL6e3mbtkDN",
        "colab_type": "text"
      },
      "source": [
        "You are a Data Science Consultant working on a project to understand car crashes in the city of Chicago. You are required to make recommendations to the office of the mayor of Chicago on the steps to take that would lead to a reduction in car crashes, based on the findings from the dataset analysis findings . \n"
      ]
    },
    {
      "cell_type": "markdown",
      "metadata": {
        "id": "b0pmM3WBtnDx",
        "colab_type": "text"
      },
      "source": [
        "As part of your descriptive analysis report, you decide to find answers to the following questions using SQL.\n",
        "1. Display a list of 5 makes that had the highest number of crashes?\n",
        "2. Most personal vehicles involved in crashes were travelling towards which direction? \n",
        "3. How many passengers were involved in personal cars were in accidents?\n",
        "4. How many passengers were involved in accidents while travelling in personal Sport Utility vehicles?\n",
        "5. Compute the total number of Mercedez-Benz vehicles involved in accidents while being parked.\n",
        "6. Compute the total occupant count per vehicle count.\n",
        "7. Sort the number of passengers in descending order by travel direction taking into account travel direction. Return travel direction and no. of passengers.\n",
        "8. Select top 5 vehicle models involved in the accident with no defect, order them by make and show their manoeuvre. \n",
        "9. Which ridesharing vehicles in an accident had the most number of passengers? Return model, and no of passengers.\n",
        " \n",
        "<strong>Remember:</strong> What matters the most is what your insights mean to the business. Make sure to have a section where you elaborate how your analysis findings tie to your recommendations.\n",
        " \n"
      ]
    },
    {
      "cell_type": "markdown",
      "metadata": {
        "id": "CegoZ0RItxwY",
        "colab_type": "text"
      },
      "source": [
        "## Dataset Explained\n"
      ]
    },
    {
      "cell_type": "markdown",
      "metadata": {
        "id": "SI5krZheuAMo",
        "colab_type": "text"
      },
      "source": [
        "Before performing any analysis, you should select only vehicles manufactured in the last 15 years from MySQL traffic_accidents_database whose URL and credentials are given below.\n",
        "\n"
      ]
    },
    {
      "cell_type": "markdown",
      "metadata": {
        "id": "PgFfNp01uCRL",
        "colab_type": "text"
      },
      "source": [
        "URL = http://***/<br>\n",
        "username = *** <br>\n",
        "password = ***\n"
      ]
    },
    {
      "cell_type": "markdown",
      "metadata": {
        "id": "SygeWN9iSfMF",
        "colab_type": "text"
      },
      "source": [
        "## Preparing Data"
      ]
    },
    {
      "cell_type": "markdown",
      "metadata": {
        "id": "bBTn0cI9S54u",
        "colab_type": "text"
      },
      "source": [
        "After connecting to the database using the credentials provided, I have selected the required set of records by running the following SQL query.\n",
        "\n",
        "SELECT * FROM `traffic_accidents` WHERE vehicle_year > 2005  AND vehicle_year <= 2020\n",
        "\n",
        "<em> <font color = lightblue>I am sure we can make use of the various date() functions here to select the years between now and 15 years ago, but **not sure of the syntax for now**. currently researching on this. </font></em>\n",
        "\n",
        "I have thereafter exported the resulting recordset as a csv file for downstream analysis through this notebook."
      ]
    },
    {
      "cell_type": "markdown",
      "metadata": {
        "id": "UcO2iuQqtgsb",
        "colab_type": "text"
      },
      "source": [
        "## Step 1. Importing Required Libraries"
      ]
    },
    {
      "cell_type": "code",
      "metadata": {
        "id": "gDqs0vZDsmZc",
        "colab_type": "code",
        "colab": {
          "base_uri": "https://localhost:8080/",
          "height": 36
        },
        "outputId": "25784fba-0102-4c1a-867b-3cace3ba01f1"
      },
      "source": [
        "# Importing pandas\n",
        "import pandas as pd\n",
        "\n",
        "# Loading SQL extension\n",
        "%load_ext sql\n",
        "\n",
        "# Connecting sqlite database\n",
        "%sql sqlite://"
      ],
      "execution_count": 2,
      "outputs": [
        {
          "output_type": "execute_result",
          "data": {
            "application/vnd.google.colaboratory.intrinsic": {
              "type": "string"
            },
            "text/plain": [
              "'Connected: @None'"
            ]
          },
          "metadata": {
            "tags": []
          },
          "execution_count": 2
        }
      ]
    },
    {
      "cell_type": "markdown",
      "metadata": {
        "id": "vdIJCFwIwdKC",
        "colab_type": "text"
      },
      "source": [
        "## Step 2. Importing Dataset"
      ]
    },
    {
      "cell_type": "code",
      "metadata": {
        "id": "sv4V_dsXwwjA",
        "colab_type": "code",
        "colab": {
          "base_uri": "https://localhost:8080/",
          "height": 92
        },
        "outputId": "4280e25f-993e-4c5b-d8a5-769b8d742d32"
      },
      "source": [
        "# Load the dataset from a csv file and store it in a dataframe called traffic_accidents.\n",
        "t_accidents = pd.read_csv('traffic_accidents.csv')\n",
        "\n",
        "\n",
        "#Store the dataset in our in memory sqlite database. but for controls, check \n",
        "#first if the table exists in the database, and if so drop it. \n",
        "%sql DROP TABLE if EXISTS retail;\n",
        "\n",
        "\n",
        "#Finally create an SQL table of our sqlite database running in memory and store \n",
        "#the recordset in readiness for further analysis with SQL \n",
        "%sql PERSIST t_accidents; \n"
      ],
      "execution_count": 3,
      "outputs": [
        {
          "output_type": "stream",
          "text": [
            " * sqlite://\n",
            "Done.\n",
            " * sqlite://\n"
          ],
          "name": "stdout"
        },
        {
          "output_type": "execute_result",
          "data": {
            "application/vnd.google.colaboratory.intrinsic": {
              "type": "string"
            },
            "text/plain": [
              "'Persisted t_accidents'"
            ]
          },
          "metadata": {
            "tags": []
          },
          "execution_count": 3
        }
      ]
    },
    {
      "cell_type": "markdown",
      "metadata": {
        "id": "2UMYi1qEgfZB",
        "colab_type": "text"
      },
      "source": [
        "### 2.1 Sample Recordset"
      ]
    },
    {
      "cell_type": "code",
      "metadata": {
        "id": "G5m7HQFuzAGF",
        "colab_type": "code",
        "colab": {
          "base_uri": "https://localhost:8080/",
          "height": 520
        },
        "outputId": "ed13ff08-6699-46f6-bb7f-6e3eae85da9d"
      },
      "source": [
        "# Sample the first few records of our dataset to understand the structure of the dataset\n",
        "%%sql \n",
        "SELECT * FROM t_accidents LIMIT 10"
      ],
      "execution_count": 4,
      "outputs": [
        {
          "output_type": "stream",
          "text": [
            " * sqlite://\n",
            "Done.\n"
          ],
          "name": "stdout"
        },
        {
          "output_type": "execute_result",
          "data": {
            "text/html": [
              "<table>\n",
              "    <tr>\n",
              "        <th>index</th>\n",
              "        <th>crash_unit_id</th>\n",
              "        <th>rd_no</th>\n",
              "        <th>crash_date</th>\n",
              "        <th>unit_no</th>\n",
              "        <th>unit_type</th>\n",
              "        <th>num_passengers</th>\n",
              "        <th>vehicle_id</th>\n",
              "        <th>cmrc_veh_i</th>\n",
              "        <th>make</th>\n",
              "        <th>model</th>\n",
              "        <th>lic_plate_state</th>\n",
              "        <th>vehicle_year</th>\n",
              "        <th>vehicle_defect</th>\n",
              "        <th>vehicle_type</th>\n",
              "        <th>vehicle_use</th>\n",
              "        <th>travel_direction</th>\n",
              "        <th>maneuver</th>\n",
              "        <th>towed_i</th>\n",
              "        <th>fire_i</th>\n",
              "        <th>occupant_cnt</th>\n",
              "        <th>exceed_speed_limit_i</th>\n",
              "        <th>towed_by</th>\n",
              "        <th>towed_to</th>\n",
              "        <th>area_00_i</th>\n",
              "        <th>area_01_i</th>\n",
              "        <th>area_02_i</th>\n",
              "        <th>area_03_i</th>\n",
              "        <th>area_04_i</th>\n",
              "        <th>area_05_i</th>\n",
              "        <th>area_06_i</th>\n",
              "        <th>area_07_i</th>\n",
              "        <th>area_08_i</th>\n",
              "        <th>area_09_i</th>\n",
              "        <th>area_10_i</th>\n",
              "        <th>area_11_i</th>\n",
              "        <th>area_12_i</th>\n",
              "        <th>area_99_i</th>\n",
              "        <th>first_contact_point</th>\n",
              "        <th>cmv_id</th>\n",
              "        <th>usdot_no</th>\n",
              "        <th>ccmc_no</th>\n",
              "        <th>ilcc_no</th>\n",
              "        <th>commercial_src</th>\n",
              "        <th>gvwr</th>\n",
              "        <th>carrier_name</th>\n",
              "        <th>carrier_state</th>\n",
              "        <th>carrier_city</th>\n",
              "        <th>hazmat_placards_i</th>\n",
              "        <th>hazmat_name</th>\n",
              "        <th>un_no</th>\n",
              "        <th>hazmat_present_i</th>\n",
              "        <th>hazmat_report_i</th>\n",
              "        <th>hazmat_report_no</th>\n",
              "        <th>mcs_report_i</th>\n",
              "        <th>mcs_report_no</th>\n",
              "        <th>hazmat_vio_cause_crash_i</th>\n",
              "        <th>mcs_vio_cause_crash_i</th>\n",
              "        <th>idot_permit_no</th>\n",
              "        <th>wide_load_i</th>\n",
              "        <th>trailer1_width</th>\n",
              "        <th>trailer2_width</th>\n",
              "        <th>trailer1_length</th>\n",
              "        <th>trailer2_length</th>\n",
              "        <th>total_vehicle_length</th>\n",
              "        <th>axle_cnt</th>\n",
              "        <th>vehicle_config</th>\n",
              "        <th>cargo_body_type</th>\n",
              "        <th>load_type</th>\n",
              "        <th>hazmat_out_of_service_i</th>\n",
              "        <th>mcs_out_of_service_i</th>\n",
              "        <th>hazmat_class</th>\n",
              "    </tr>\n",
              "    <tr>\n",
              "        <td>0</td>\n",
              "        <td>758252</td>\n",
              "        <td>JC469272</td>\n",
              "        <td>2019-10-11T19:45:00</td>\n",
              "        <td>1</td>\n",
              "        <td>DRIVER</td>\n",
              "        <td>None</td>\n",
              "        <td>720258</td>\n",
              "        <td>None</td>\n",
              "        <td>DODGE</td>\n",
              "        <td>CARAVAN</td>\n",
              "        <td>IL</td>\n",
              "        <td>2006</td>\n",
              "        <td>UNKNOWN</td>\n",
              "        <td>VAN/MINI-VAN</td>\n",
              "        <td>PERSONAL</td>\n",
              "        <td>W</td>\n",
              "        <td>STRAIGHT AHEAD</td>\n",
              "        <td>1</td>\n",
              "        <td>None</td>\n",
              "        <td>1</td>\n",
              "        <td>None</td>\n",
              "        <td>E&amp;R TOWING</td>\n",
              "        <td>10301 S DOTY RD</td>\n",
              "        <td>None</td>\n",
              "        <td>None</td>\n",
              "        <td>None</td>\n",
              "        <td>None</td>\n",
              "        <td>None</td>\n",
              "        <td>None</td>\n",
              "        <td>0</td>\n",
              "        <td>None</td>\n",
              "        <td>None</td>\n",
              "        <td>None</td>\n",
              "        <td>None</td>\n",
              "        <td>None</td>\n",
              "        <td>1</td>\n",
              "        <td>None</td>\n",
              "        <td>OTHER</td>\n",
              "        <td>None</td>\n",
              "        <td>None</td>\n",
              "        <td>None</td>\n",
              "        <td>None</td>\n",
              "        <td>None</td>\n",
              "        <td>None</td>\n",
              "        <td>None</td>\n",
              "        <td>None</td>\n",
              "        <td>None</td>\n",
              "        <td>None</td>\n",
              "        <td>None</td>\n",
              "        <td>None</td>\n",
              "        <td>None</td>\n",
              "        <td>None</td>\n",
              "        <td>None</td>\n",
              "        <td>None</td>\n",
              "        <td>None</td>\n",
              "        <td>None</td>\n",
              "        <td>None</td>\n",
              "        <td>None</td>\n",
              "        <td>None</td>\n",
              "        <td>None</td>\n",
              "        <td>None</td>\n",
              "        <td>None</td>\n",
              "        <td>None</td>\n",
              "        <td>None</td>\n",
              "        <td>None</td>\n",
              "        <td>None</td>\n",
              "        <td>None</td>\n",
              "        <td>None</td>\n",
              "        <td>None</td>\n",
              "        <td>None</td>\n",
              "        <td>None</td>\n",
              "    </tr>\n",
              "    <tr>\n",
              "        <td>1</td>\n",
              "        <td>758164</td>\n",
              "        <td>JC469222</td>\n",
              "        <td>2019-10-11T18:39:00</td>\n",
              "        <td>1</td>\n",
              "        <td>DRIVER</td>\n",
              "        <td>None</td>\n",
              "        <td>720177</td>\n",
              "        <td>None</td>\n",
              "        <td>CHEVROLET</td>\n",
              "        <td>COBALT</td>\n",
              "        <td>CA</td>\n",
              "        <td>2006</td>\n",
              "        <td>UNKNOWN</td>\n",
              "        <td>PASSENGER</td>\n",
              "        <td>UNKNOWN/NA</td>\n",
              "        <td>UNKNOWN</td>\n",
              "        <td>CHANGING LANES</td>\n",
              "        <td>None</td>\n",
              "        <td>None</td>\n",
              "        <td>1</td>\n",
              "        <td>None</td>\n",
              "        <td>None</td>\n",
              "        <td>None</td>\n",
              "        <td>None</td>\n",
              "        <td>None</td>\n",
              "        <td>None</td>\n",
              "        <td>None</td>\n",
              "        <td>None</td>\n",
              "        <td>None</td>\n",
              "        <td>None</td>\n",
              "        <td>None</td>\n",
              "        <td>None</td>\n",
              "        <td>None</td>\n",
              "        <td>None</td>\n",
              "        <td>None</td>\n",
              "        <td>None</td>\n",
              "        <td>1</td>\n",
              "        <td>TOTAL (ALL AREAS)</td>\n",
              "        <td>None</td>\n",
              "        <td>None</td>\n",
              "        <td>None</td>\n",
              "        <td>None</td>\n",
              "        <td>None</td>\n",
              "        <td>None</td>\n",
              "        <td>None</td>\n",
              "        <td>None</td>\n",
              "        <td>None</td>\n",
              "        <td>None</td>\n",
              "        <td>None</td>\n",
              "        <td>None</td>\n",
              "        <td>None</td>\n",
              "        <td>None</td>\n",
              "        <td>None</td>\n",
              "        <td>None</td>\n",
              "        <td>None</td>\n",
              "        <td>None</td>\n",
              "        <td>None</td>\n",
              "        <td>None</td>\n",
              "        <td>None</td>\n",
              "        <td>None</td>\n",
              "        <td>None</td>\n",
              "        <td>None</td>\n",
              "        <td>None</td>\n",
              "        <td>None</td>\n",
              "        <td>None</td>\n",
              "        <td>None</td>\n",
              "        <td>None</td>\n",
              "        <td>None</td>\n",
              "        <td>None</td>\n",
              "        <td>None</td>\n",
              "        <td>None</td>\n",
              "    </tr>\n",
              "    <tr>\n",
              "        <td>2</td>\n",
              "        <td>758273</td>\n",
              "        <td>JC469228</td>\n",
              "        <td>2019-10-11T18:29:00</td>\n",
              "        <td>1</td>\n",
              "        <td>DRIVER</td>\n",
              "        <td>None</td>\n",
              "        <td>720287</td>\n",
              "        <td>None</td>\n",
              "        <td>KIA MOTORS CORP</td>\n",
              "        <td>Optima</td>\n",
              "        <td>IL</td>\n",
              "        <td>2006</td>\n",
              "        <td>NONE</td>\n",
              "        <td>PASSENGER</td>\n",
              "        <td>PERSONAL</td>\n",
              "        <td>E</td>\n",
              "        <td>TURNING LEFT</td>\n",
              "        <td>None</td>\n",
              "        <td>None</td>\n",
              "        <td>1</td>\n",
              "        <td>None</td>\n",
              "        <td>None</td>\n",
              "        <td>None</td>\n",
              "        <td>None</td>\n",
              "        <td>1</td>\n",
              "        <td>None</td>\n",
              "        <td>None</td>\n",
              "        <td>None</td>\n",
              "        <td>None</td>\n",
              "        <td>None</td>\n",
              "        <td>None</td>\n",
              "        <td>None</td>\n",
              "        <td>None</td>\n",
              "        <td>None</td>\n",
              "        <td>1</td>\n",
              "        <td>1</td>\n",
              "        <td>None</td>\n",
              "        <td>OTHER</td>\n",
              "        <td>None</td>\n",
              "        <td>None</td>\n",
              "        <td>None</td>\n",
              "        <td>None</td>\n",
              "        <td>None</td>\n",
              "        <td>None</td>\n",
              "        <td>None</td>\n",
              "        <td>None</td>\n",
              "        <td>None</td>\n",
              "        <td>None</td>\n",
              "        <td>None</td>\n",
              "        <td>None</td>\n",
              "        <td>None</td>\n",
              "        <td>None</td>\n",
              "        <td>None</td>\n",
              "        <td>None</td>\n",
              "        <td>None</td>\n",
              "        <td>None</td>\n",
              "        <td>None</td>\n",
              "        <td>None</td>\n",
              "        <td>None</td>\n",
              "        <td>None</td>\n",
              "        <td>None</td>\n",
              "        <td>None</td>\n",
              "        <td>None</td>\n",
              "        <td>None</td>\n",
              "        <td>None</td>\n",
              "        <td>None</td>\n",
              "        <td>None</td>\n",
              "        <td>None</td>\n",
              "        <td>None</td>\n",
              "        <td>None</td>\n",
              "        <td>None</td>\n",
              "    </tr>\n",
              "    <tr>\n",
              "        <td>3</td>\n",
              "        <td>758074</td>\n",
              "        <td>JC469085</td>\n",
              "        <td>2019-10-11T17:10:00</td>\n",
              "        <td>1</td>\n",
              "        <td>DRIVER</td>\n",
              "        <td>None</td>\n",
              "        <td>720081</td>\n",
              "        <td>None</td>\n",
              "        <td>MERCEDES-BENZ</td>\n",
              "        <td>UNKNOWN</td>\n",
              "        <td>IL</td>\n",
              "        <td>2006</td>\n",
              "        <td>UNKNOWN</td>\n",
              "        <td>PASSENGER</td>\n",
              "        <td>UNKNOWN/NA</td>\n",
              "        <td>E</td>\n",
              "        <td>STRAIGHT AHEAD</td>\n",
              "        <td>None</td>\n",
              "        <td>None</td>\n",
              "        <td>1</td>\n",
              "        <td>None</td>\n",
              "        <td>None</td>\n",
              "        <td>None</td>\n",
              "        <td>None</td>\n",
              "        <td>None</td>\n",
              "        <td>None</td>\n",
              "        <td>None</td>\n",
              "        <td>None</td>\n",
              "        <td>None</td>\n",
              "        <td>None</td>\n",
              "        <td>None</td>\n",
              "        <td>None</td>\n",
              "        <td>None</td>\n",
              "        <td>None</td>\n",
              "        <td>None</td>\n",
              "        <td>None</td>\n",
              "        <td>1</td>\n",
              "        <td>OTHER</td>\n",
              "        <td>None</td>\n",
              "        <td>None</td>\n",
              "        <td>None</td>\n",
              "        <td>None</td>\n",
              "        <td>None</td>\n",
              "        <td>None</td>\n",
              "        <td>None</td>\n",
              "        <td>None</td>\n",
              "        <td>None</td>\n",
              "        <td>None</td>\n",
              "        <td>None</td>\n",
              "        <td>None</td>\n",
              "        <td>None</td>\n",
              "        <td>None</td>\n",
              "        <td>None</td>\n",
              "        <td>None</td>\n",
              "        <td>None</td>\n",
              "        <td>None</td>\n",
              "        <td>None</td>\n",
              "        <td>None</td>\n",
              "        <td>None</td>\n",
              "        <td>None</td>\n",
              "        <td>None</td>\n",
              "        <td>None</td>\n",
              "        <td>None</td>\n",
              "        <td>None</td>\n",
              "        <td>None</td>\n",
              "        <td>None</td>\n",
              "        <td>None</td>\n",
              "        <td>None</td>\n",
              "        <td>None</td>\n",
              "        <td>None</td>\n",
              "        <td>None</td>\n",
              "    </tr>\n",
              "    <tr>\n",
              "        <td>4</td>\n",
              "        <td>758005</td>\n",
              "        <td>JC469056</td>\n",
              "        <td>2019-10-11T16:30:00</td>\n",
              "        <td>1</td>\n",
              "        <td>DRIVER</td>\n",
              "        <td>None</td>\n",
              "        <td>720025</td>\n",
              "        <td>None</td>\n",
              "        <td>TOYOTA MOTOR COMPANY, LTD.</td>\n",
              "        <td>Matrix (sport wagon)</td>\n",
              "        <td>IL</td>\n",
              "        <td>2006</td>\n",
              "        <td>UNKNOWN</td>\n",
              "        <td>PASSENGER</td>\n",
              "        <td>PERSONAL</td>\n",
              "        <td>W</td>\n",
              "        <td>STRAIGHT AHEAD</td>\n",
              "        <td>None</td>\n",
              "        <td>None</td>\n",
              "        <td>1</td>\n",
              "        <td>None</td>\n",
              "        <td>None</td>\n",
              "        <td>None</td>\n",
              "        <td>None</td>\n",
              "        <td>None</td>\n",
              "        <td>None</td>\n",
              "        <td>None</td>\n",
              "        <td>None</td>\n",
              "        <td>None</td>\n",
              "        <td>None</td>\n",
              "        <td>None</td>\n",
              "        <td>None</td>\n",
              "        <td>None</td>\n",
              "        <td>None</td>\n",
              "        <td>None</td>\n",
              "        <td>None</td>\n",
              "        <td>None</td>\n",
              "        <td>UNDER CARRIAGE</td>\n",
              "        <td>None</td>\n",
              "        <td>None</td>\n",
              "        <td>None</td>\n",
              "        <td>None</td>\n",
              "        <td>None</td>\n",
              "        <td>None</td>\n",
              "        <td>None</td>\n",
              "        <td>None</td>\n",
              "        <td>None</td>\n",
              "        <td>None</td>\n",
              "        <td>None</td>\n",
              "        <td>None</td>\n",
              "        <td>None</td>\n",
              "        <td>None</td>\n",
              "        <td>None</td>\n",
              "        <td>None</td>\n",
              "        <td>None</td>\n",
              "        <td>None</td>\n",
              "        <td>None</td>\n",
              "        <td>None</td>\n",
              "        <td>None</td>\n",
              "        <td>None</td>\n",
              "        <td>None</td>\n",
              "        <td>None</td>\n",
              "        <td>None</td>\n",
              "        <td>None</td>\n",
              "        <td>None</td>\n",
              "        <td>None</td>\n",
              "        <td>None</td>\n",
              "        <td>None</td>\n",
              "        <td>None</td>\n",
              "        <td>None</td>\n",
              "        <td>None</td>\n",
              "    </tr>\n",
              "    <tr>\n",
              "        <td>5</td>\n",
              "        <td>758006</td>\n",
              "        <td>JC469056</td>\n",
              "        <td>2019-10-11T16:30:00</td>\n",
              "        <td>2</td>\n",
              "        <td>DRIVER</td>\n",
              "        <td>None</td>\n",
              "        <td>720034</td>\n",
              "        <td>None</td>\n",
              "        <td>HONDA</td>\n",
              "        <td>Odyssey (minivan)</td>\n",
              "        <td>IL</td>\n",
              "        <td>2006</td>\n",
              "        <td>UNKNOWN</td>\n",
              "        <td>VAN/MINI-VAN</td>\n",
              "        <td>PERSONAL</td>\n",
              "        <td>W</td>\n",
              "        <td>STRAIGHT AHEAD</td>\n",
              "        <td>None</td>\n",
              "        <td>None</td>\n",
              "        <td>1</td>\n",
              "        <td>None</td>\n",
              "        <td>None</td>\n",
              "        <td>None</td>\n",
              "        <td>None</td>\n",
              "        <td>None</td>\n",
              "        <td>None</td>\n",
              "        <td>None</td>\n",
              "        <td>None</td>\n",
              "        <td>None</td>\n",
              "        <td>None</td>\n",
              "        <td>None</td>\n",
              "        <td>None</td>\n",
              "        <td>None</td>\n",
              "        <td>None</td>\n",
              "        <td>None</td>\n",
              "        <td>None</td>\n",
              "        <td>None</td>\n",
              "        <td>SIDE-RIGHT</td>\n",
              "        <td>None</td>\n",
              "        <td>None</td>\n",
              "        <td>None</td>\n",
              "        <td>None</td>\n",
              "        <td>None</td>\n",
              "        <td>None</td>\n",
              "        <td>None</td>\n",
              "        <td>None</td>\n",
              "        <td>None</td>\n",
              "        <td>None</td>\n",
              "        <td>None</td>\n",
              "        <td>None</td>\n",
              "        <td>None</td>\n",
              "        <td>None</td>\n",
              "        <td>None</td>\n",
              "        <td>None</td>\n",
              "        <td>None</td>\n",
              "        <td>None</td>\n",
              "        <td>None</td>\n",
              "        <td>None</td>\n",
              "        <td>None</td>\n",
              "        <td>None</td>\n",
              "        <td>None</td>\n",
              "        <td>None</td>\n",
              "        <td>None</td>\n",
              "        <td>None</td>\n",
              "        <td>None</td>\n",
              "        <td>None</td>\n",
              "        <td>None</td>\n",
              "        <td>None</td>\n",
              "        <td>None</td>\n",
              "        <td>None</td>\n",
              "        <td>None</td>\n",
              "    </tr>\n",
              "    <tr>\n",
              "        <td>6</td>\n",
              "        <td>757934</td>\n",
              "        <td>JC468930</td>\n",
              "        <td>2019-10-11T15:50:00</td>\n",
              "        <td>1</td>\n",
              "        <td>DRIVER</td>\n",
              "        <td>2.0</td>\n",
              "        <td>719946</td>\n",
              "        <td>None</td>\n",
              "        <td>JEEP</td>\n",
              "        <td>Liberty</td>\n",
              "        <td>IL</td>\n",
              "        <td>2006</td>\n",
              "        <td>NONE</td>\n",
              "        <td>PASSENGER</td>\n",
              "        <td>PERSONAL</td>\n",
              "        <td>N</td>\n",
              "        <td>STRAIGHT AHEAD</td>\n",
              "        <td>None</td>\n",
              "        <td>None</td>\n",
              "        <td>3</td>\n",
              "        <td>None</td>\n",
              "        <td>None</td>\n",
              "        <td>None</td>\n",
              "        <td>None</td>\n",
              "        <td>1</td>\n",
              "        <td>None</td>\n",
              "        <td>None</td>\n",
              "        <td>None</td>\n",
              "        <td>None</td>\n",
              "        <td>None</td>\n",
              "        <td>None</td>\n",
              "        <td>None</td>\n",
              "        <td>None</td>\n",
              "        <td>None</td>\n",
              "        <td>1</td>\n",
              "        <td>1</td>\n",
              "        <td>None</td>\n",
              "        <td>OTHER</td>\n",
              "        <td>None</td>\n",
              "        <td>None</td>\n",
              "        <td>None</td>\n",
              "        <td>None</td>\n",
              "        <td>None</td>\n",
              "        <td>None</td>\n",
              "        <td>None</td>\n",
              "        <td>None</td>\n",
              "        <td>None</td>\n",
              "        <td>None</td>\n",
              "        <td>None</td>\n",
              "        <td>None</td>\n",
              "        <td>None</td>\n",
              "        <td>None</td>\n",
              "        <td>None</td>\n",
              "        <td>None</td>\n",
              "        <td>None</td>\n",
              "        <td>None</td>\n",
              "        <td>None</td>\n",
              "        <td>None</td>\n",
              "        <td>None</td>\n",
              "        <td>None</td>\n",
              "        <td>None</td>\n",
              "        <td>None</td>\n",
              "        <td>None</td>\n",
              "        <td>None</td>\n",
              "        <td>None</td>\n",
              "        <td>None</td>\n",
              "        <td>None</td>\n",
              "        <td>None</td>\n",
              "        <td>None</td>\n",
              "        <td>None</td>\n",
              "        <td>None</td>\n",
              "    </tr>\n",
              "    <tr>\n",
              "        <td>7</td>\n",
              "        <td>757929</td>\n",
              "        <td>JC468890</td>\n",
              "        <td>2019-10-11T15:25:00</td>\n",
              "        <td>1</td>\n",
              "        <td>DRIVER</td>\n",
              "        <td>None</td>\n",
              "        <td>719947</td>\n",
              "        <td>None</td>\n",
              "        <td>FORD</td>\n",
              "        <td>F150</td>\n",
              "        <td>IL</td>\n",
              "        <td>2006</td>\n",
              "        <td>UNKNOWN</td>\n",
              "        <td>PASSENGER</td>\n",
              "        <td>PERSONAL</td>\n",
              "        <td>W</td>\n",
              "        <td>STRAIGHT AHEAD</td>\n",
              "        <td>None</td>\n",
              "        <td>None</td>\n",
              "        <td>1</td>\n",
              "        <td>None</td>\n",
              "        <td>None</td>\n",
              "        <td>None</td>\n",
              "        <td>None</td>\n",
              "        <td>None</td>\n",
              "        <td>None</td>\n",
              "        <td>None</td>\n",
              "        <td>None</td>\n",
              "        <td>None</td>\n",
              "        <td>None</td>\n",
              "        <td>None</td>\n",
              "        <td>None</td>\n",
              "        <td>None</td>\n",
              "        <td>None</td>\n",
              "        <td>None</td>\n",
              "        <td>1</td>\n",
              "        <td>None</td>\n",
              "        <td>OTHER</td>\n",
              "        <td>None</td>\n",
              "        <td>None</td>\n",
              "        <td>None</td>\n",
              "        <td>None</td>\n",
              "        <td>None</td>\n",
              "        <td>None</td>\n",
              "        <td>None</td>\n",
              "        <td>None</td>\n",
              "        <td>None</td>\n",
              "        <td>None</td>\n",
              "        <td>None</td>\n",
              "        <td>None</td>\n",
              "        <td>None</td>\n",
              "        <td>None</td>\n",
              "        <td>None</td>\n",
              "        <td>None</td>\n",
              "        <td>None</td>\n",
              "        <td>None</td>\n",
              "        <td>None</td>\n",
              "        <td>None</td>\n",
              "        <td>None</td>\n",
              "        <td>None</td>\n",
              "        <td>None</td>\n",
              "        <td>None</td>\n",
              "        <td>None</td>\n",
              "        <td>None</td>\n",
              "        <td>None</td>\n",
              "        <td>None</td>\n",
              "        <td>None</td>\n",
              "        <td>None</td>\n",
              "        <td>None</td>\n",
              "        <td>None</td>\n",
              "        <td>None</td>\n",
              "    </tr>\n",
              "    <tr>\n",
              "        <td>8</td>\n",
              "        <td>757907</td>\n",
              "        <td>JC468908</td>\n",
              "        <td>2019-10-11T15:00:00</td>\n",
              "        <td>1</td>\n",
              "        <td>DRIVER</td>\n",
              "        <td>None</td>\n",
              "        <td>719922</td>\n",
              "        <td>None</td>\n",
              "        <td>VOLKSWAGEN</td>\n",
              "        <td>UNKNOWN</td>\n",
              "        <td>IL</td>\n",
              "        <td>2006</td>\n",
              "        <td>NONE</td>\n",
              "        <td>PASSENGER</td>\n",
              "        <td>PERSONAL</td>\n",
              "        <td>E</td>\n",
              "        <td>TURNING RIGHT</td>\n",
              "        <td>None</td>\n",
              "        <td>None</td>\n",
              "        <td>1</td>\n",
              "        <td>None</td>\n",
              "        <td>None</td>\n",
              "        <td>None</td>\n",
              "        <td>None</td>\n",
              "        <td>None</td>\n",
              "        <td>1</td>\n",
              "        <td>1</td>\n",
              "        <td>1</td>\n",
              "        <td>1</td>\n",
              "        <td>None</td>\n",
              "        <td>None</td>\n",
              "        <td>None</td>\n",
              "        <td>None</td>\n",
              "        <td>None</td>\n",
              "        <td>None</td>\n",
              "        <td>None</td>\n",
              "        <td>None</td>\n",
              "        <td>SIDE-RIGHT</td>\n",
              "        <td>None</td>\n",
              "        <td>None</td>\n",
              "        <td>None</td>\n",
              "        <td>None</td>\n",
              "        <td>None</td>\n",
              "        <td>None</td>\n",
              "        <td>None</td>\n",
              "        <td>None</td>\n",
              "        <td>None</td>\n",
              "        <td>None</td>\n",
              "        <td>None</td>\n",
              "        <td>None</td>\n",
              "        <td>None</td>\n",
              "        <td>None</td>\n",
              "        <td>None</td>\n",
              "        <td>None</td>\n",
              "        <td>None</td>\n",
              "        <td>None</td>\n",
              "        <td>None</td>\n",
              "        <td>None</td>\n",
              "        <td>None</td>\n",
              "        <td>None</td>\n",
              "        <td>None</td>\n",
              "        <td>None</td>\n",
              "        <td>None</td>\n",
              "        <td>None</td>\n",
              "        <td>None</td>\n",
              "        <td>None</td>\n",
              "        <td>None</td>\n",
              "        <td>None</td>\n",
              "        <td>None</td>\n",
              "        <td>None</td>\n",
              "        <td>None</td>\n",
              "    </tr>\n",
              "    <tr>\n",
              "        <td>9</td>\n",
              "        <td>757956</td>\n",
              "        <td>JC468983</td>\n",
              "        <td>2019-10-11T14:45:00</td>\n",
              "        <td>1</td>\n",
              "        <td>DRIVER</td>\n",
              "        <td>None</td>\n",
              "        <td>719978</td>\n",
              "        <td>None</td>\n",
              "        <td>CHEVROLET</td>\n",
              "        <td>UNKNOWN</td>\n",
              "        <td>IL</td>\n",
              "        <td>2006</td>\n",
              "        <td>UNKNOWN</td>\n",
              "        <td>VAN/MINI-VAN</td>\n",
              "        <td>OTHER</td>\n",
              "        <td>E</td>\n",
              "        <td>BACKING</td>\n",
              "        <td>None</td>\n",
              "        <td>None</td>\n",
              "        <td>1</td>\n",
              "        <td>None</td>\n",
              "        <td>None</td>\n",
              "        <td>None</td>\n",
              "        <td>1</td>\n",
              "        <td>None</td>\n",
              "        <td>None</td>\n",
              "        <td>None</td>\n",
              "        <td>None</td>\n",
              "        <td>None</td>\n",
              "        <td>None</td>\n",
              "        <td>None</td>\n",
              "        <td>None</td>\n",
              "        <td>None</td>\n",
              "        <td>None</td>\n",
              "        <td>None</td>\n",
              "        <td>None</td>\n",
              "        <td>None</td>\n",
              "        <td>REAR-LEFT</td>\n",
              "        <td>None</td>\n",
              "        <td>None</td>\n",
              "        <td>None</td>\n",
              "        <td>None</td>\n",
              "        <td>None</td>\n",
              "        <td>None</td>\n",
              "        <td>None</td>\n",
              "        <td>None</td>\n",
              "        <td>None</td>\n",
              "        <td>None</td>\n",
              "        <td>None</td>\n",
              "        <td>None</td>\n",
              "        <td>None</td>\n",
              "        <td>None</td>\n",
              "        <td>None</td>\n",
              "        <td>None</td>\n",
              "        <td>None</td>\n",
              "        <td>None</td>\n",
              "        <td>None</td>\n",
              "        <td>None</td>\n",
              "        <td>None</td>\n",
              "        <td>None</td>\n",
              "        <td>None</td>\n",
              "        <td>None</td>\n",
              "        <td>None</td>\n",
              "        <td>None</td>\n",
              "        <td>None</td>\n",
              "        <td>None</td>\n",
              "        <td>None</td>\n",
              "        <td>None</td>\n",
              "        <td>None</td>\n",
              "        <td>None</td>\n",
              "        <td>None</td>\n",
              "    </tr>\n",
              "</table>"
            ],
            "text/plain": [
              "[(0, 758252, 'JC469272', '2019-10-11T19:45:00', 1, 'DRIVER', None, 720258, None, 'DODGE', 'CARAVAN', 'IL', 2006, 'UNKNOWN', 'VAN/MINI-VAN', 'PERSONAL', 'W', 'STRAIGHT AHEAD', 1, None, 1, None, 'E&R TOWING', '10301 S DOTY RD', None, None, None, None, None, None, 0, None, None, None, None, None, 1, None, 'OTHER', None, None, None, None, None, None, None, None, None, None, None, None, None, None, None, None, None, None, None, None, None, None, None, None, None, None, None, None, None, None, None, None, None),\n",
              " (1, 758164, 'JC469222', '2019-10-11T18:39:00', 1, 'DRIVER', None, 720177, None, 'CHEVROLET', 'COBALT', 'CA', 2006, 'UNKNOWN', 'PASSENGER', 'UNKNOWN/NA', 'UNKNOWN', 'CHANGING LANES', None, None, 1, None, None, None, None, None, None, None, None, None, None, None, None, None, None, None, None, 1, 'TOTAL (ALL AREAS)', None, None, None, None, None, None, None, None, None, None, None, None, None, None, None, None, None, None, None, None, None, None, None, None, None, None, None, None, None, None, None, None, None),\n",
              " (2, 758273, 'JC469228', '2019-10-11T18:29:00', 1, 'DRIVER', None, 720287, None, 'KIA MOTORS CORP', 'Optima', 'IL', 2006, 'NONE', 'PASSENGER', 'PERSONAL', 'E', 'TURNING LEFT', None, None, 1, None, None, None, None, 1, None, None, None, None, None, None, None, None, None, 1, 1, None, 'OTHER', None, None, None, None, None, None, None, None, None, None, None, None, None, None, None, None, None, None, None, None, None, None, None, None, None, None, None, None, None, None, None, None, None),\n",
              " (3, 758074, 'JC469085', '2019-10-11T17:10:00', 1, 'DRIVER', None, 720081, None, 'MERCEDES-BENZ', 'UNKNOWN', 'IL', 2006, 'UNKNOWN', 'PASSENGER', 'UNKNOWN/NA', 'E', 'STRAIGHT AHEAD', None, None, 1, None, None, None, None, None, None, None, None, None, None, None, None, None, None, None, None, 1, 'OTHER', None, None, None, None, None, None, None, None, None, None, None, None, None, None, None, None, None, None, None, None, None, None, None, None, None, None, None, None, None, None, None, None, None),\n",
              " (4, 758005, 'JC469056', '2019-10-11T16:30:00', 1, 'DRIVER', None, 720025, None, 'TOYOTA MOTOR COMPANY, LTD.', 'Matrix (sport wagon)', 'IL', 2006, 'UNKNOWN', 'PASSENGER', 'PERSONAL', 'W', 'STRAIGHT AHEAD', None, None, 1, None, None, None, None, None, None, None, None, None, None, None, None, None, None, None, None, None, 'UNDER CARRIAGE', None, None, None, None, None, None, None, None, None, None, None, None, None, None, None, None, None, None, None, None, None, None, None, None, None, None, None, None, None, None, None, None, None),\n",
              " (5, 758006, 'JC469056', '2019-10-11T16:30:00', 2, 'DRIVER', None, 720034, None, 'HONDA', 'Odyssey (minivan)', 'IL', 2006, 'UNKNOWN', 'VAN/MINI-VAN', 'PERSONAL', 'W', 'STRAIGHT AHEAD', None, None, 1, None, None, None, None, None, None, None, None, None, None, None, None, None, None, None, None, None, 'SIDE-RIGHT', None, None, None, None, None, None, None, None, None, None, None, None, None, None, None, None, None, None, None, None, None, None, None, None, None, None, None, None, None, None, None, None, None),\n",
              " (6, 757934, 'JC468930', '2019-10-11T15:50:00', 1, 'DRIVER', 2.0, 719946, None, 'JEEP', 'Liberty', 'IL', 2006, 'NONE', 'PASSENGER', 'PERSONAL', 'N', 'STRAIGHT AHEAD', None, None, 3, None, None, None, None, 1, None, None, None, None, None, None, None, None, None, 1, 1, None, 'OTHER', None, None, None, None, None, None, None, None, None, None, None, None, None, None, None, None, None, None, None, None, None, None, None, None, None, None, None, None, None, None, None, None, None),\n",
              " (7, 757929, 'JC468890', '2019-10-11T15:25:00', 1, 'DRIVER', None, 719947, None, 'FORD', 'F150', 'IL', 2006, 'UNKNOWN', 'PASSENGER', 'PERSONAL', 'W', 'STRAIGHT AHEAD', None, None, 1, None, None, None, None, None, None, None, None, None, None, None, None, None, None, None, 1, None, 'OTHER', None, None, None, None, None, None, None, None, None, None, None, None, None, None, None, None, None, None, None, None, None, None, None, None, None, None, None, None, None, None, None, None, None),\n",
              " (8, 757907, 'JC468908', '2019-10-11T15:00:00', 1, 'DRIVER', None, 719922, None, 'VOLKSWAGEN', 'UNKNOWN', 'IL', 2006, 'NONE', 'PASSENGER', 'PERSONAL', 'E', 'TURNING RIGHT', None, None, 1, None, None, None, None, None, 1, 1, 1, 1, None, None, None, None, None, None, None, None, 'SIDE-RIGHT', None, None, None, None, None, None, None, None, None, None, None, None, None, None, None, None, None, None, None, None, None, None, None, None, None, None, None, None, None, None, None, None, None),\n",
              " (9, 757956, 'JC468983', '2019-10-11T14:45:00', 1, 'DRIVER', None, 719978, None, 'CHEVROLET', 'UNKNOWN', 'IL', 2006, 'UNKNOWN', 'VAN/MINI-VAN', 'OTHER', 'E', 'BACKING', None, None, 1, None, None, None, 1, None, None, None, None, None, None, None, None, None, None, None, None, None, 'REAR-LEFT', None, None, None, None, None, None, None, None, None, None, None, None, None, None, None, None, None, None, None, None, None, None, None, None, None, None, None, None, None, None, None, None, None)]"
            ]
          },
          "metadata": {
            "tags": []
          },
          "execution_count": 4
        }
      ]
    },
    {
      "cell_type": "markdown",
      "metadata": {
        "id": "EQWoOWiQwyyn",
        "colab_type": "text"
      },
      "source": [
        "## Step 3. Business Needs"
      ]
    },
    {
      "cell_type": "markdown",
      "metadata": {
        "id": "zFwN26YCw3MC",
        "colab_type": "text"
      },
      "source": [
        "**1. Which are the top 5 car makes that had the highest number of crashes in the study period?**"
      ]
    },
    {
      "cell_type": "code",
      "metadata": {
        "id": "Q8SEcpAPw21W",
        "colab_type": "code",
        "colab": {
          "base_uri": "https://localhost:8080/",
          "height": 184
        },
        "outputId": "64ace853-2470-4194-95e8-b71ce679b947"
      },
      "source": [
        "#We make use of the property 'make' and use the COUNT()function against this \n",
        "#variable for each of its make group. \n",
        "\n",
        "%%sql \n",
        "SELECT make as 'car make', count(make) as 'accident frequency'\n",
        "FROM t_accidents\n",
        "GROUP BY make\n",
        "ORDER BY count(make) desc\n",
        "LIMIT 5;"
      ],
      "execution_count": 5,
      "outputs": [
        {
          "output_type": "stream",
          "text": [
            " * sqlite://\n",
            "Done.\n"
          ],
          "name": "stdout"
        },
        {
          "output_type": "execute_result",
          "data": {
            "text/html": [
              "<table>\n",
              "    <tr>\n",
              "        <th>car make</th>\n",
              "        <th>accident frequency</th>\n",
              "    </tr>\n",
              "    <tr>\n",
              "        <td>TOYOTA MOTOR COMPANY, LTD.</td>\n",
              "        <td>609</td>\n",
              "    </tr>\n",
              "    <tr>\n",
              "        <td>FORD</td>\n",
              "        <td>545</td>\n",
              "    </tr>\n",
              "    <tr>\n",
              "        <td>CHEVROLET</td>\n",
              "        <td>538</td>\n",
              "    </tr>\n",
              "    <tr>\n",
              "        <td>NISSAN</td>\n",
              "        <td>478</td>\n",
              "    </tr>\n",
              "    <tr>\n",
              "        <td>HONDA</td>\n",
              "        <td>345</td>\n",
              "    </tr>\n",
              "</table>"
            ],
            "text/plain": [
              "[('TOYOTA MOTOR COMPANY, LTD.', 609),\n",
              " ('FORD', 545),\n",
              " ('CHEVROLET', 538),\n",
              " ('NISSAN', 478),\n",
              " ('HONDA', 345)]"
            ]
          },
          "metadata": {
            "tags": []
          },
          "execution_count": 5
        }
      ]
    },
    {
      "cell_type": "markdown",
      "metadata": {
        "id": "lt32s_LK29ca",
        "colab_type": "text"
      },
      "source": [
        "<em><font color = lightblue>'TOYOTA MOTOR COMPANY, LTD' with 609 accidents had the highest number of accidents reported for the period betweeen 2005 and 2020, followed by FORD with 545, CHEVROLET with 538, NISSAN with 478 and HONDA at 5th position with 345 accidents reported.</font> </em>"
      ]
    },
    {
      "cell_type": "markdown",
      "metadata": {
        "id": "8eIaB284PGzp",
        "colab_type": "text"
      },
      "source": [
        "\n",
        "\n",
        "---\n",
        "\n"
      ]
    },
    {
      "cell_type": "markdown",
      "metadata": {
        "id": "nTq7WhiWxAgm",
        "colab_type": "text"
      },
      "source": [
        "**2. Towards which direction were the most personal vehicles involved in crashes travelling?**"
      ]
    },
    {
      "cell_type": "code",
      "metadata": {
        "id": "Hi7X-fc6xIXM",
        "colab_type": "code",
        "colab": {
          "base_uri": "https://localhost:8080/",
          "height": 184
        },
        "outputId": "c6c382a9-da36-4707-bc59-cfed2b47bd69"
      },
      "source": [
        "# We use 'vehicle_type' and 'travel_dierction' to respond to the need above. \n",
        "# further we use COUNT() funtion for each of the directions to determine the mode of direction.\n",
        "%%sql\n",
        "SELECT travel_direction as 'travel direction', count(travel_direction) as 'crash frequency'\n",
        "FROM t_accidents\n",
        "WHERE vehicle_use = 'PERSONAL'\n",
        "GROUP BY travel_direction \n",
        "ORDER BY count(travel_direction) desc\n",
        "LIMIT 5;"
      ],
      "execution_count": 6,
      "outputs": [
        {
          "output_type": "stream",
          "text": [
            " * sqlite://\n",
            "Done.\n"
          ],
          "name": "stdout"
        },
        {
          "output_type": "execute_result",
          "data": {
            "text/html": [
              "<table>\n",
              "    <tr>\n",
              "        <th>travel direction</th>\n",
              "        <th>crash frequency</th>\n",
              "    </tr>\n",
              "    <tr>\n",
              "        <td>N</td>\n",
              "        <td>849</td>\n",
              "    </tr>\n",
              "    <tr>\n",
              "        <td>S</td>\n",
              "        <td>807</td>\n",
              "    </tr>\n",
              "    <tr>\n",
              "        <td>W</td>\n",
              "        <td>765</td>\n",
              "    </tr>\n",
              "    <tr>\n",
              "        <td>E</td>\n",
              "        <td>708</td>\n",
              "    </tr>\n",
              "    <tr>\n",
              "        <td>UNKNOWN</td>\n",
              "        <td>116</td>\n",
              "    </tr>\n",
              "</table>"
            ],
            "text/plain": [
              "[('N', 849), ('S', 807), ('W', 765), ('E', 708), ('UNKNOWN', 116)]"
            ]
          },
          "metadata": {
            "tags": []
          },
          "execution_count": 6
        }
      ]
    },
    {
      "cell_type": "markdown",
      "metadata": {
        "id": "jeRtQrg64dXL",
        "colab_type": "text"
      },
      "source": [
        "<em><font color = lightblue>The highest number of passenger cars, at 849, reported with accidents were travelling towards the East</font></em>"
      ]
    },
    {
      "cell_type": "markdown",
      "metadata": {
        "id": "dL5wPmBEPIsK",
        "colab_type": "text"
      },
      "source": [
        "\n",
        "\n",
        "---\n",
        "\n"
      ]
    },
    {
      "cell_type": "markdown",
      "metadata": {
        "id": "AQNTCdCRxIx6",
        "colab_type": "text"
      },
      "source": [
        "**3. How many passengers were involved in personal cars accidents??**"
      ]
    },
    {
      "cell_type": "code",
      "metadata": {
        "id": "2WfOXe03xMfA",
        "colab_type": "code",
        "colab": {
          "base_uri": "https://localhost:8080/",
          "height": 99
        },
        "outputId": "fb6b2d8a-d62c-4cb3-ae33-e9053eb765f8"
      },
      "source": [
        "# Use the SUM() function to get the total number of passengers for all the \n",
        "# personal cars involved in accidents.\n",
        "%%sql\n",
        "SELECT SUM(num_passengers) as 'No of Passengers'\n",
        "FROM t_accidents\n",
        "WHERE vehicle_use = 'PERSONAL'"
      ],
      "execution_count": 26,
      "outputs": [
        {
          "output_type": "stream",
          "text": [
            " * sqlite://\n",
            "Done.\n"
          ],
          "name": "stdout"
        },
        {
          "output_type": "execute_result",
          "data": {
            "text/html": [
              "<table>\n",
              "    <tr>\n",
              "        <th>No of Passengers</th>\n",
              "    </tr>\n",
              "    <tr>\n",
              "        <td>827.0</td>\n",
              "    </tr>\n",
              "</table>"
            ],
            "text/plain": [
              "[(827.0,)]"
            ]
          },
          "metadata": {
            "tags": []
          },
          "execution_count": 26
        }
      ]
    },
    {
      "cell_type": "markdown",
      "metadata": {
        "id": "fkLMK9Mz45Om",
        "colab_type": "text"
      },
      "source": [
        "<em><font color = lightblue>A total of 827 passengers were involved in personal car accidents.</font></em>"
      ]
    },
    {
      "cell_type": "markdown",
      "metadata": {
        "id": "t4gjPlZ1PKNp",
        "colab_type": "text"
      },
      "source": [
        "\n",
        "\n",
        "---\n",
        "\n"
      ]
    },
    {
      "cell_type": "markdown",
      "metadata": {
        "id": "MP2YV_wLxN8C",
        "colab_type": "text"
      },
      "source": [
        "**4. How many passengers were involved in accidents while travelling in personal Sport Utility vehicles?**"
      ]
    },
    {
      "cell_type": "code",
      "metadata": {
        "id": "OTdC6KQtxRzx",
        "colab_type": "code",
        "colab": {
          "base_uri": "https://localhost:8080/",
          "height": 99
        },
        "outputId": "6b3c99ac-c329-4020-a901-d6750208d447"
      },
      "source": [
        "# Use the SUM() function to get the total number of passengers for all the \n",
        "# personal sport utility vehicles involved in accidents.\n",
        "%%sql\n",
        "SELECT SUM(num_passengers) as 'No of Passengers'\n",
        "FROM t_accidents\n",
        "WHERE vehicle_use = 'PERSONAL' AND vehicle_type = 'SPORT UTILITY VEHICLE (SUV)'\n"
      ],
      "execution_count": 27,
      "outputs": [
        {
          "output_type": "stream",
          "text": [
            " * sqlite://\n",
            "Done.\n"
          ],
          "name": "stdout"
        },
        {
          "output_type": "execute_result",
          "data": {
            "text/html": [
              "<table>\n",
              "    <tr>\n",
              "        <th>No of Passengers</th>\n",
              "    </tr>\n",
              "    <tr>\n",
              "        <td>137.0</td>\n",
              "    </tr>\n",
              "</table>"
            ],
            "text/plain": [
              "[(137.0,)]"
            ]
          },
          "metadata": {
            "tags": []
          },
          "execution_count": 27
        }
      ]
    },
    {
      "cell_type": "markdown",
      "metadata": {
        "id": "Np4vawNc6pde",
        "colab_type": "text"
      },
      "source": [
        "<em><font color = lightblue>A total of 137 passengers were involved in personal SUV car accidents.</font></em>"
      ]
    },
    {
      "cell_type": "markdown",
      "metadata": {
        "id": "Nqor-FcePL7z",
        "colab_type": "text"
      },
      "source": [
        "\n",
        "\n",
        "---\n",
        "\n"
      ]
    },
    {
      "cell_type": "markdown",
      "metadata": {
        "id": "MEV4mRtrxU-J",
        "colab_type": "text"
      },
      "source": [
        "**5. Compute the total number of Mercedez-Benz vehicles involved in accidents while being parked.**"
      ]
    },
    {
      "cell_type": "code",
      "metadata": {
        "id": "hxZe-52VxZWQ",
        "colab_type": "code",
        "colab": {
          "base_uri": "https://localhost:8080/",
          "height": 99
        },
        "outputId": "82beae38-96e6-45de-e08c-f6d11029872d"
      },
      "source": [
        "#Use COUNT() function to get the total number of Mercedez-Benz cars.\n",
        "\n",
        "%%sql\n",
        "SELECT count(make) as 'No of Mercedez-Benz'\n",
        "FROM t_accidents\n",
        "WHERE make = 'MERCEDES-BENZ' AND maneuver = 'PARKED'"
      ],
      "execution_count": 9,
      "outputs": [
        {
          "output_type": "stream",
          "text": [
            " * sqlite://\n",
            "Done.\n"
          ],
          "name": "stdout"
        },
        {
          "output_type": "execute_result",
          "data": {
            "text/html": [
              "<table>\n",
              "    <tr>\n",
              "        <th>No of Mercedez-Benz</th>\n",
              "    </tr>\n",
              "    <tr>\n",
              "        <td>10</td>\n",
              "    </tr>\n",
              "</table>"
            ],
            "text/plain": [
              "[(10,)]"
            ]
          },
          "metadata": {
            "tags": []
          },
          "execution_count": 9
        }
      ]
    },
    {
      "cell_type": "markdown",
      "metadata": {
        "id": "Q5-eD7Bv-HRU",
        "colab_type": "text"
      },
      "source": [
        "<em><font color = lightblue>Only 10 Mercedez-Benz cars were involved in an accident while parked.</font></em>"
      ]
    },
    {
      "cell_type": "markdown",
      "metadata": {
        "id": "ZA8_19WhPNP7",
        "colab_type": "text"
      },
      "source": [
        "\n",
        "\n",
        "---\n",
        "\n"
      ]
    },
    {
      "cell_type": "markdown",
      "metadata": {
        "id": "OYvXsEJyxbAC",
        "colab_type": "text"
      },
      "source": [
        "**6.Compute the total occupancy count per vehicle count.**"
      ]
    },
    {
      "cell_type": "code",
      "metadata": {
        "id": "jvpTAOcXxcdL",
        "colab_type": "code",
        "colab": {
          "base_uri": "https://localhost:8080/",
          "height": 1000
        },
        "outputId": "0f60f62f-21f7-4025-9056-b0ab676513ab"
      },
      "source": [
        "# I have interpreted \"per vehicle count\" to mean for each make of the vehicle.\n",
        "# Use the SUM() function to get the total number of passengers for each of the makes of the vehicles.\n",
        "%%sql\n",
        "SELECT make, SUM(occupant_cnt) as 'Occupancy'\n",
        "FROM t_accidents\n",
        "GROUP BY make"
      ],
      "execution_count": 28,
      "outputs": [
        {
          "output_type": "stream",
          "text": [
            " * sqlite://\n",
            "Done.\n"
          ],
          "name": "stdout"
        },
        {
          "output_type": "execute_result",
          "data": {
            "text/html": [
              "<table>\n",
              "    <tr>\n",
              "        <th>make</th>\n",
              "        <th>Occupancy</th>\n",
              "    </tr>\n",
              "    <tr>\n",
              "        <td>(UNLISTED MANUFACTURER)</td>\n",
              "        <td>1</td>\n",
              "    </tr>\n",
              "    <tr>\n",
              "        <td>ACURA</td>\n",
              "        <td>34</td>\n",
              "    </tr>\n",
              "    <tr>\n",
              "        <td>ACURA (DIV. OF AMERICAN HONDA MOTOR CO.)</td>\n",
              "        <td>15</td>\n",
              "    </tr>\n",
              "    <tr>\n",
              "        <td>ALFA ROMEO</td>\n",
              "        <td>0</td>\n",
              "    </tr>\n",
              "    <tr>\n",
              "        <td>AM GENERAL/HUMMER</td>\n",
              "        <td>3</td>\n",
              "    </tr>\n",
              "    <tr>\n",
              "        <td>AMERICAN TRAILER &amp; MFG. CO. (SEE ALSO TRANSPORTER)</td>\n",
              "        <td>1</td>\n",
              "    </tr>\n",
              "    <tr>\n",
              "        <td>AMTRAN CORP, GENSIS BUSES</td>\n",
              "        <td>7</td>\n",
              "    </tr>\n",
              "    <tr>\n",
              "        <td>ASTON-MARTIN</td>\n",
              "        <td>1</td>\n",
              "    </tr>\n",
              "    <tr>\n",
              "        <td>AUDI</td>\n",
              "        <td>60</td>\n",
              "    </tr>\n",
              "    <tr>\n",
              "        <td>AUTOCAR</td>\n",
              "        <td>6</td>\n",
              "    </tr>\n",
              "    <tr>\n",
              "        <td>BANTAM CRANE</td>\n",
              "        <td>1</td>\n",
              "    </tr>\n",
              "    <tr>\n",
              "        <td>BENTLEY</td>\n",
              "        <td>0</td>\n",
              "    </tr>\n",
              "    <tr>\n",
              "        <td>BLUE BIRD BODY CO.</td>\n",
              "        <td>7</td>\n",
              "    </tr>\n",
              "    <tr>\n",
              "        <td>BLUEBIRD INTERNATIONAL</td>\n",
              "        <td>13</td>\n",
              "    </tr>\n",
              "    <tr>\n",
              "        <td>BMW</td>\n",
              "        <td>55</td>\n",
              "    </tr>\n",
              "    <tr>\n",
              "        <td>BUICK</td>\n",
              "        <td>88</td>\n",
              "    </tr>\n",
              "    <tr>\n",
              "        <td>CADILLAC</td>\n",
              "        <td>49</td>\n",
              "    </tr>\n",
              "    <tr>\n",
              "        <td>CALDWELL DIV., SMITH INTERNATIONAL, INC.</td>\n",
              "        <td>1</td>\n",
              "    </tr>\n",
              "    <tr>\n",
              "        <td>CASCADE COACH CO.</td>\n",
              "        <td>1</td>\n",
              "    </tr>\n",
              "    <tr>\n",
              "        <td>CHEVELLE MOBILE HOMES, INC.</td>\n",
              "        <td>1</td>\n",
              "    </tr>\n",
              "    <tr>\n",
              "        <td>CHEVROLET</td>\n",
              "        <td>590</td>\n",
              "    </tr>\n",
              "    <tr>\n",
              "        <td>CHRYSLER</td>\n",
              "        <td>135</td>\n",
              "    </tr>\n",
              "    <tr>\n",
              "        <td>CONTINENTAL</td>\n",
              "        <td>1</td>\n",
              "    </tr>\n",
              "    <tr>\n",
              "        <td>DODGE</td>\n",
              "        <td>280</td>\n",
              "    </tr>\n",
              "    <tr>\n",
              "        <td>EIDAL INTERNATIONAL CORP.</td>\n",
              "        <td>1</td>\n",
              "    </tr>\n",
              "    <tr>\n",
              "        <td>EL DORADO INTERNATIONAL, INC.; EL DORADO MFG., LTD.</td>\n",
              "        <td>3</td>\n",
              "    </tr>\n",
              "    <tr>\n",
              "        <td>FERRARI</td>\n",
              "        <td>0</td>\n",
              "    </tr>\n",
              "    <tr>\n",
              "        <td>FIAT</td>\n",
              "        <td>5</td>\n",
              "    </tr>\n",
              "    <tr>\n",
              "        <td>FIESTA (IMPORTED BY FORD)</td>\n",
              "        <td>3</td>\n",
              "    </tr>\n",
              "    <tr>\n",
              "        <td>FLEET CAP&#x27;N TRAILERS</td>\n",
              "        <td>4</td>\n",
              "    </tr>\n",
              "    <tr>\n",
              "        <td>FLEETCRAFT CORP.</td>\n",
              "        <td>1</td>\n",
              "    </tr>\n",
              "    <tr>\n",
              "        <td>FLEETWOOD ENTERPRISES</td>\n",
              "        <td>1</td>\n",
              "    </tr>\n",
              "    <tr>\n",
              "        <td>FONTAINE TRUCK EQUIPMENT CO.</td>\n",
              "        <td>1</td>\n",
              "    </tr>\n",
              "    <tr>\n",
              "        <td>FORD</td>\n",
              "        <td>627</td>\n",
              "    </tr>\n",
              "    <tr>\n",
              "        <td>FREIGHTLINER CORP.</td>\n",
              "        <td>49</td>\n",
              "    </tr>\n",
              "    <tr>\n",
              "        <td>GENERAL MOTORS CORP.</td>\n",
              "        <td>74</td>\n",
              "    </tr>\n",
              "    <tr>\n",
              "        <td>GILL MFG. CO.</td>\n",
              "        <td>3</td>\n",
              "    </tr>\n",
              "    <tr>\n",
              "        <td>GOODYEAR CAMPER MFG., INC., LINCOLN, NB</td>\n",
              "        <td>1</td>\n",
              "    </tr>\n",
              "    <tr>\n",
              "        <td>GREAT DANE TRAILERS INC.</td>\n",
              "        <td>1</td>\n",
              "    </tr>\n",
              "    <tr>\n",
              "        <td>HARLEY-DAVIDSON</td>\n",
              "        <td>3</td>\n",
              "    </tr>\n",
              "    <tr>\n",
              "        <td>HAULER-TRAILER(MFD. BY NORDINE MFG.)</td>\n",
              "        <td>1</td>\n",
              "    </tr>\n",
              "    <tr>\n",
              "        <td>HINDUSTAN</td>\n",
              "        <td>1</td>\n",
              "    </tr>\n",
              "    <tr>\n",
              "        <td>HINO</td>\n",
              "        <td>5</td>\n",
              "    </tr>\n",
              "    <tr>\n",
              "        <td>HONDA</td>\n",
              "        <td>364</td>\n",
              "    </tr>\n",
              "    <tr>\n",
              "        <td>HYUNDAI</td>\n",
              "        <td>303</td>\n",
              "    </tr>\n",
              "    <tr>\n",
              "        <td>ICL CARGO TRAILER</td>\n",
              "        <td>15</td>\n",
              "    </tr>\n",
              "    <tr>\n",
              "        <td>INFINITI</td>\n",
              "        <td>56</td>\n",
              "    </tr>\n",
              "    <tr>\n",
              "        <td>INTENATIONAL INDUSTRIES, INC.</td>\n",
              "        <td>3</td>\n",
              "    </tr>\n",
              "    <tr>\n",
              "        <td>INTERNATIONAL COACH MFG.</td>\n",
              "        <td>5</td>\n",
              "    </tr>\n",
              "    <tr>\n",
              "        <td>INTERNATIONAL HARVESTER</td>\n",
              "        <td>4</td>\n",
              "    </tr>\n",
              "    <tr>\n",
              "        <td>INTERNATIONAL TRAILER CORP.</td>\n",
              "        <td>9</td>\n",
              "    </tr>\n",
              "    <tr>\n",
              "        <td>ISUZU</td>\n",
              "        <td>11</td>\n",
              "    </tr>\n",
              "    <tr>\n",
              "        <td>JAGUAR</td>\n",
              "        <td>5</td>\n",
              "    </tr>\n",
              "    <tr>\n",
              "        <td>JEEP</td>\n",
              "        <td>255</td>\n",
              "    </tr>\n",
              "    <tr>\n",
              "        <td>KAWASAKI MOTORS CORP.</td>\n",
              "        <td>4</td>\n",
              "    </tr>\n",
              "    <tr>\n",
              "        <td>KENWORTH MOTOR TRUCK CO.</td>\n",
              "        <td>10</td>\n",
              "    </tr>\n",
              "    <tr>\n",
              "        <td>KIA MOTORS CORP</td>\n",
              "        <td>176</td>\n",
              "    </tr>\n",
              "    <tr>\n",
              "        <td>LAND ROVER</td>\n",
              "        <td>12</td>\n",
              "    </tr>\n",
              "    <tr>\n",
              "        <td>LEXUS</td>\n",
              "        <td>73</td>\n",
              "    </tr>\n",
              "    <tr>\n",
              "        <td>LINCOLN ELECTRIC CO., INC. CLEVELAND, OH ; LINCOLN WELDER</td>\n",
              "        <td>1</td>\n",
              "    </tr>\n",
              "    <tr>\n",
              "        <td>LINCOLN-CONTINENTAL</td>\n",
              "        <td>53</td>\n",
              "    </tr>\n",
              "    <tr>\n",
              "        <td>MACK TRAILER MFG. CO., INC., DETRIOT, MI</td>\n",
              "        <td>1</td>\n",
              "    </tr>\n",
              "    <tr>\n",
              "        <td>MACK TRUCKS, INC.</td>\n",
              "        <td>6</td>\n",
              "    </tr>\n",
              "    <tr>\n",
              "        <td>MAZDA</td>\n",
              "        <td>81</td>\n",
              "    </tr>\n",
              "    <tr>\n",
              "        <td>MERCEDES-BENZ</td>\n",
              "        <td>64</td>\n",
              "    </tr>\n",
              "    <tr>\n",
              "        <td>MERCURY</td>\n",
              "        <td>7</td>\n",
              "    </tr>\n",
              "    <tr>\n",
              "        <td>MINI</td>\n",
              "        <td>13</td>\n",
              "    </tr>\n",
              "    <tr>\n",
              "        <td>MITSUBISHI</td>\n",
              "        <td>32</td>\n",
              "    </tr>\n",
              "    <tr>\n",
              "        <td>MOTOR COACH INDUSTRIES, INC.</td>\n",
              "        <td>2</td>\n",
              "    </tr>\n",
              "    <tr>\n",
              "        <td>NAVISTAR</td>\n",
              "        <td>1</td>\n",
              "    </tr>\n",
              "    <tr>\n",
              "        <td>NEW FLYER</td>\n",
              "        <td>57</td>\n",
              "    </tr>\n",
              "    <tr>\n",
              "        <td>NISSAN</td>\n",
              "        <td>553</td>\n",
              "    </tr>\n",
              "    <tr>\n",
              "        <td>NISSAN DIESEL MOTOR CO.</td>\n",
              "        <td>1</td>\n",
              "    </tr>\n",
              "    <tr>\n",
              "        <td>OLDSMOBILE</td>\n",
              "        <td>1</td>\n",
              "    </tr>\n",
              "    <tr>\n",
              "        <td>PETERBILT MOTORS CO., DIVISION PACCAR, INC.</td>\n",
              "        <td>6</td>\n",
              "    </tr>\n",
              "    <tr>\n",
              "        <td>PONTIAC</td>\n",
              "        <td>46</td>\n",
              "    </tr>\n",
              "    <tr>\n",
              "        <td>PORSCHE</td>\n",
              "        <td>8</td>\n",
              "    </tr>\n",
              "    <tr>\n",
              "        <td>PREVOST CAR, BUS, SAINTE CLAIRE, QUEBEC</td>\n",
              "        <td>12</td>\n",
              "    </tr>\n",
              "    <tr>\n",
              "        <td>QUALITY TRAILER</td>\n",
              "        <td>0</td>\n",
              "    </tr>\n",
              "    <tr>\n",
              "        <td>RANGE ROVER OF NORTH AMERICA</td>\n",
              "        <td>3</td>\n",
              "    </tr>\n",
              "    <tr>\n",
              "        <td>ROLLS INTERNATIONAL TRAILER(MOBILE HOME)</td>\n",
              "        <td>1</td>\n",
              "    </tr>\n",
              "    <tr>\n",
              "        <td>SAAB</td>\n",
              "        <td>3</td>\n",
              "    </tr>\n",
              "    <tr>\n",
              "        <td>SATURN</td>\n",
              "        <td>19</td>\n",
              "    </tr>\n",
              "    <tr>\n",
              "        <td>SCION</td>\n",
              "        <td>17</td>\n",
              "    </tr>\n",
              "    <tr>\n",
              "        <td>SCOOTALONG</td>\n",
              "        <td>1</td>\n",
              "    </tr>\n",
              "    <tr>\n",
              "        <td>STERLINE FLATBED TRAILER</td>\n",
              "        <td>1</td>\n",
              "    </tr>\n",
              "    <tr>\n",
              "        <td>STERLING</td>\n",
              "        <td>1</td>\n",
              "    </tr>\n",
              "    <tr>\n",
              "        <td>SUBARU</td>\n",
              "        <td>70</td>\n",
              "    </tr>\n",
              "    <tr>\n",
              "        <td>SUZUKI</td>\n",
              "        <td>8</td>\n",
              "    </tr>\n",
              "    <tr>\n",
              "        <td>TESLA MOTORS</td>\n",
              "        <td>5</td>\n",
              "    </tr>\n",
              "    <tr>\n",
              "        <td>THOMAS BUILT BUS CO.</td>\n",
              "        <td>1</td>\n",
              "    </tr>\n",
              "    <tr>\n",
              "        <td>TOWMASTER</td>\n",
              "        <td>0</td>\n",
              "    </tr>\n",
              "    <tr>\n",
              "        <td>TOYOCAR VAN CONTAINER TRAILER</td>\n",
              "        <td>1</td>\n",
              "    </tr>\n",
              "    <tr>\n",
              "        <td>TOYOTA MOTOR COMPANY, LTD.</td>\n",
              "        <td>669</td>\n",
              "    </tr>\n",
              "    <tr>\n",
              "        <td>TRIUMPH</td>\n",
              "        <td>0</td>\n",
              "    </tr>\n",
              "    <tr>\n",
              "        <td>UNKNOWN</td>\n",
              "        <td>92</td>\n",
              "    </tr>\n",
              "    <tr>\n",
              "        <td>VOLKSWAGEN</td>\n",
              "        <td>109</td>\n",
              "    </tr>\n",
              "    <tr>\n",
              "        <td>VOLVO</td>\n",
              "        <td>29</td>\n",
              "    </tr>\n",
              "    <tr>\n",
              "        <td>WABCO CONSTRUCTION &amp; MINING EQUIPMENT GROUP</td>\n",
              "        <td>2</td>\n",
              "    </tr>\n",
              "    <tr>\n",
              "        <td>WORK HORSE MFG.</td>\n",
              "        <td>1</td>\n",
              "    </tr>\n",
              "    <tr>\n",
              "        <td>YAMAHA</td>\n",
              "        <td>1</td>\n",
              "    </tr>\n",
              "</table>"
            ],
            "text/plain": [
              "[('(UNLISTED MANUFACTURER)', 1),\n",
              " ('ACURA', 34),\n",
              " ('ACURA (DIV. OF AMERICAN HONDA MOTOR CO.)', 15),\n",
              " ('ALFA ROMEO', 0),\n",
              " ('AM GENERAL/HUMMER', 3),\n",
              " ('AMERICAN TRAILER & MFG. CO. (SEE ALSO TRANSPORTER)', 1),\n",
              " ('AMTRAN CORP, GENSIS BUSES', 7),\n",
              " ('ASTON-MARTIN', 1),\n",
              " ('AUDI', 60),\n",
              " ('AUTOCAR', 6),\n",
              " ('BANTAM CRANE', 1),\n",
              " ('BENTLEY', 0),\n",
              " ('BLUE BIRD BODY CO.', 7),\n",
              " ('BLUEBIRD INTERNATIONAL', 13),\n",
              " ('BMW', 55),\n",
              " ('BUICK', 88),\n",
              " ('CADILLAC', 49),\n",
              " ('CALDWELL DIV., SMITH INTERNATIONAL, INC.', 1),\n",
              " ('CASCADE COACH CO.', 1),\n",
              " ('CHEVELLE MOBILE HOMES, INC.', 1),\n",
              " ('CHEVROLET', 590),\n",
              " ('CHRYSLER', 135),\n",
              " ('CONTINENTAL', 1),\n",
              " ('DODGE', 280),\n",
              " ('EIDAL INTERNATIONAL CORP.', 1),\n",
              " ('EL DORADO INTERNATIONAL, INC.; EL DORADO MFG., LTD.', 3),\n",
              " ('FERRARI', 0),\n",
              " ('FIAT', 5),\n",
              " ('FIESTA (IMPORTED BY FORD)', 3),\n",
              " (\"FLEET CAP'N TRAILERS\", 4),\n",
              " ('FLEETCRAFT CORP.', 1),\n",
              " ('FLEETWOOD ENTERPRISES', 1),\n",
              " ('FONTAINE TRUCK EQUIPMENT CO.', 1),\n",
              " ('FORD', 627),\n",
              " ('FREIGHTLINER CORP.', 49),\n",
              " ('GENERAL MOTORS CORP.', 74),\n",
              " ('GILL MFG. CO.', 3),\n",
              " ('GOODYEAR CAMPER MFG., INC., LINCOLN, NB', 1),\n",
              " ('GREAT DANE TRAILERS INC.', 1),\n",
              " ('HARLEY-DAVIDSON', 3),\n",
              " ('HAULER-TRAILER(MFD. BY NORDINE MFG.)', 1),\n",
              " ('HINDUSTAN', 1),\n",
              " ('HINO', 5),\n",
              " ('HONDA', 364),\n",
              " ('HYUNDAI', 303),\n",
              " ('ICL CARGO TRAILER', 15),\n",
              " ('INFINITI', 56),\n",
              " ('INTENATIONAL INDUSTRIES, INC.', 3),\n",
              " ('INTERNATIONAL COACH MFG.', 5),\n",
              " ('INTERNATIONAL HARVESTER', 4),\n",
              " ('INTERNATIONAL TRAILER CORP.', 9),\n",
              " ('ISUZU', 11),\n",
              " ('JAGUAR', 5),\n",
              " ('JEEP', 255),\n",
              " ('KAWASAKI MOTORS CORP.', 4),\n",
              " ('KENWORTH MOTOR TRUCK CO.', 10),\n",
              " ('KIA MOTORS CORP', 176),\n",
              " ('LAND ROVER', 12),\n",
              " ('LEXUS', 73),\n",
              " ('LINCOLN ELECTRIC CO., INC. CLEVELAND, OH ; LINCOLN WELDER', 1),\n",
              " ('LINCOLN-CONTINENTAL', 53),\n",
              " ('MACK TRAILER MFG. CO., INC., DETRIOT, MI', 1),\n",
              " ('MACK TRUCKS, INC.', 6),\n",
              " ('MAZDA', 81),\n",
              " ('MERCEDES-BENZ', 64),\n",
              " ('MERCURY', 7),\n",
              " ('MINI', 13),\n",
              " ('MITSUBISHI', 32),\n",
              " ('MOTOR COACH INDUSTRIES, INC.', 2),\n",
              " ('NAVISTAR', 1),\n",
              " ('NEW FLYER', 57),\n",
              " ('NISSAN', 553),\n",
              " ('NISSAN DIESEL MOTOR CO.', 1),\n",
              " ('OLDSMOBILE', 1),\n",
              " ('PETERBILT MOTORS CO., DIVISION PACCAR, INC.', 6),\n",
              " ('PONTIAC', 46),\n",
              " ('PORSCHE', 8),\n",
              " ('PREVOST CAR, BUS, SAINTE CLAIRE, QUEBEC', 12),\n",
              " ('QUALITY TRAILER', 0),\n",
              " ('RANGE ROVER OF NORTH AMERICA', 3),\n",
              " ('ROLLS INTERNATIONAL TRAILER(MOBILE HOME)', 1),\n",
              " ('SAAB', 3),\n",
              " ('SATURN', 19),\n",
              " ('SCION', 17),\n",
              " ('SCOOTALONG', 1),\n",
              " ('STERLINE FLATBED TRAILER', 1),\n",
              " ('STERLING', 1),\n",
              " ('SUBARU', 70),\n",
              " ('SUZUKI', 8),\n",
              " ('TESLA MOTORS', 5),\n",
              " ('THOMAS BUILT BUS CO.', 1),\n",
              " ('TOWMASTER', 0),\n",
              " ('TOYOCAR VAN CONTAINER TRAILER', 1),\n",
              " ('TOYOTA MOTOR COMPANY, LTD.', 669),\n",
              " ('TRIUMPH', 0),\n",
              " ('UNKNOWN', 92),\n",
              " ('VOLKSWAGEN', 109),\n",
              " ('VOLVO', 29),\n",
              " ('WABCO CONSTRUCTION & MINING EQUIPMENT GROUP', 2),\n",
              " ('WORK HORSE MFG.', 1),\n",
              " ('YAMAHA', 1)]"
            ]
          },
          "metadata": {
            "tags": []
          },
          "execution_count": 28
        }
      ]
    },
    {
      "cell_type": "markdown",
      "metadata": {
        "id": "xRWcyRaj-4oC",
        "colab_type": "text"
      },
      "source": [
        "*I have interpreted **\"per vehicle count\"** to mean for each make of the vehicle*"
      ]
    },
    {
      "cell_type": "markdown",
      "metadata": {
        "id": "tZW-S30iMSMt",
        "colab_type": "text"
      },
      "source": [
        " \n",
        "\n",
        "---\n",
        "\n"
      ]
    },
    {
      "cell_type": "markdown",
      "metadata": {
        "colab_type": "text",
        "id": "Nm5hKDYkrX2D"
      },
      "source": [
        "**7. Sort the number of passengers in descending order by travel direction taking into account travel direction.**"
      ]
    },
    {
      "cell_type": "code",
      "metadata": {
        "colab_type": "code",
        "id": "QgdmNBhWLa3I",
        "colab": {
          "base_uri": "https://localhost:8080/",
          "height": 270
        },
        "outputId": "652af2bc-4e2a-4580-8f72-7fef7d6e150b"
      },
      "source": [
        "# We will need data from  'occupant_cnt', travel_direction, and 'travel_direction' \n",
        "# to respond to the need above. \n",
        "# further we use COUNT() function on occupant_cnt to get the number of passengers \n",
        "# for each of the travel directions\n",
        "%%sql\n",
        "SELECT travel_direction as 'Travel Direction', count(num_passengers) as 'No. of Passengers'\n",
        "FROM t_accidents\n",
        "GROUP BY travel_direction \n",
        "ORDER BY count(num_passengers) desc, travel_direction"
      ],
      "execution_count": 30,
      "outputs": [
        {
          "output_type": "stream",
          "text": [
            " * sqlite://\n",
            "Done.\n"
          ],
          "name": "stdout"
        },
        {
          "output_type": "execute_result",
          "data": {
            "text/html": [
              "<table>\n",
              "    <tr>\n",
              "        <th>Travel Direction</th>\n",
              "        <th>No. of Passengers</th>\n",
              "    </tr>\n",
              "    <tr>\n",
              "        <td>N</td>\n",
              "        <td>198</td>\n",
              "    </tr>\n",
              "    <tr>\n",
              "        <td>W</td>\n",
              "        <td>194</td>\n",
              "    </tr>\n",
              "    <tr>\n",
              "        <td>E</td>\n",
              "        <td>184</td>\n",
              "    </tr>\n",
              "    <tr>\n",
              "        <td>S</td>\n",
              "        <td>184</td>\n",
              "    </tr>\n",
              "    <tr>\n",
              "        <td>SE</td>\n",
              "        <td>12</td>\n",
              "    </tr>\n",
              "    <tr>\n",
              "        <td>UNKNOWN</td>\n",
              "        <td>9</td>\n",
              "    </tr>\n",
              "    <tr>\n",
              "        <td>NE</td>\n",
              "        <td>6</td>\n",
              "    </tr>\n",
              "    <tr>\n",
              "        <td>NW</td>\n",
              "        <td>6</td>\n",
              "    </tr>\n",
              "    <tr>\n",
              "        <td>SW</td>\n",
              "        <td>6</td>\n",
              "    </tr>\n",
              "</table>"
            ],
            "text/plain": [
              "[('N', 198),\n",
              " ('W', 194),\n",
              " ('E', 184),\n",
              " ('S', 184),\n",
              " ('SE', 12),\n",
              " ('UNKNOWN', 9),\n",
              " ('NE', 6),\n",
              " ('NW', 6),\n",
              " ('SW', 6)]"
            ]
          },
          "metadata": {
            "tags": []
          },
          "execution_count": 30
        }
      ]
    },
    {
      "cell_type": "markdown",
      "metadata": {
        "id": "-9rMGOSzNuXp",
        "colab_type": "text"
      },
      "source": [
        "<em><font color = lightblue>Travel direction `NORTH` recorded the highest number of passengers involved in accidents with `198` people.</font></em>"
      ]
    },
    {
      "cell_type": "markdown",
      "metadata": {
        "id": "WSRvGUQQORBJ",
        "colab_type": "text"
      },
      "source": [
        "\n",
        "\n",
        "---\n",
        "\n"
      ]
    },
    {
      "cell_type": "markdown",
      "metadata": {
        "colab_type": "text",
        "id": "iQkveCWarYFo"
      },
      "source": [
        "**8. Select top 5 vehicle models involved in the accident with no defect, order them by make and show their manoeuvre.**"
      ]
    },
    {
      "cell_type": "code",
      "metadata": {
        "colab_type": "code",
        "id": "ZpT5pqH_Ld-a",
        "colab": {
          "base_uri": "https://localhost:8080/",
          "height": 184
        },
        "outputId": "59b93090-8ed9-45af-f61d-191ecd7a75f9"
      },
      "source": [
        "# We use 'model' and 'vehicle_defect', 'make' and maneuver to respond to the need above\n",
        "# but pick only cases where vehicles didnt have any defects. \n",
        "# further we use ORDER BY Clause for sorting by 'make' and finally LIMIT as we are only interested in the top 5\n",
        "%%sql\n",
        "SELECT make, model, maneuver, count(model) as 'vehicle model'\n",
        "FROM t_accidents\n",
        "WHERE vehicle_defect = 'NONE'\n",
        "GROUP BY make, model\n",
        "ORDER BY count(model) DESC, make ASC\n",
        "LIMIT 5"
      ],
      "execution_count": 25,
      "outputs": [
        {
          "output_type": "stream",
          "text": [
            " * sqlite://\n",
            "Done.\n"
          ],
          "name": "stdout"
        },
        {
          "output_type": "execute_result",
          "data": {
            "text/html": [
              "<table>\n",
              "    <tr>\n",
              "        <th>make</th>\n",
              "        <th>model</th>\n",
              "        <th>maneuver</th>\n",
              "        <th>vehicle model</th>\n",
              "    </tr>\n",
              "    <tr>\n",
              "        <td>TOYOTA MOTOR COMPANY, LTD.</td>\n",
              "        <td>CAMRY</td>\n",
              "        <td>STRAIGHT AHEAD</td>\n",
              "        <td>129</td>\n",
              "    </tr>\n",
              "    <tr>\n",
              "        <td>NISSAN</td>\n",
              "        <td>NISSAN ALTIMA</td>\n",
              "        <td>PARKED</td>\n",
              "        <td>78</td>\n",
              "    </tr>\n",
              "    <tr>\n",
              "        <td>NISSAN</td>\n",
              "        <td>SENTRA (DATSUN AND NISSAN HAVE MERGED)</td>\n",
              "        <td>SLOW/STOP IN TRAFFIC</td>\n",
              "        <td>71</td>\n",
              "    </tr>\n",
              "    <tr>\n",
              "        <td>CHEVROLET</td>\n",
              "        <td>MALIBU (CHEVELLE)</td>\n",
              "        <td>PARKED</td>\n",
              "        <td>68</td>\n",
              "    </tr>\n",
              "    <tr>\n",
              "        <td>FORD</td>\n",
              "        <td>UNKNOWN</td>\n",
              "        <td>STRAIGHT AHEAD</td>\n",
              "        <td>60</td>\n",
              "    </tr>\n",
              "</table>"
            ],
            "text/plain": [
              "[('TOYOTA MOTOR COMPANY, LTD.', 'CAMRY', 'STRAIGHT AHEAD', 129),\n",
              " ('NISSAN', 'NISSAN ALTIMA', 'PARKED', 78),\n",
              " ('NISSAN', 'SENTRA (DATSUN AND NISSAN HAVE MERGED)', 'SLOW/STOP IN TRAFFIC', 71),\n",
              " ('CHEVROLET', 'MALIBU (CHEVELLE)', 'PARKED', 68),\n",
              " ('FORD', 'UNKNOWN', 'STRAIGHT AHEAD', 60)]"
            ]
          },
          "metadata": {
            "tags": []
          },
          "execution_count": 25
        }
      ]
    },
    {
      "cell_type": "markdown",
      "metadata": {
        "colab_type": "text",
        "id": "nFjWJgtuOeZz"
      },
      "source": [
        "<em><font color = lightblue>From the analysis, `Toyota Camry` vehicles which had no defects registered the highest number of accidents with `129` of them.</font></em>"
      ]
    },
    {
      "cell_type": "markdown",
      "metadata": {
        "id": "QarSIIBSOfyw",
        "colab_type": "text"
      },
      "source": [
        "\n",
        "\n",
        "---\n",
        "\n"
      ]
    },
    {
      "cell_type": "markdown",
      "metadata": {
        "colab_type": "text",
        "id": "3EogcfZ1rYmT"
      },
      "source": [
        "**9. Which ridesharing vehicle models involved accidents had the most number of passengers? Return model, and no of passengers?**"
      ]
    },
    {
      "cell_type": "code",
      "metadata": {
        "colab_type": "code",
        "id": "-qHuXmcpLe5P",
        "colab": {
          "base_uri": "https://localhost:8080/",
          "height": 184
        },
        "outputId": "c4690d85-99cc-4919-f4fc-881e51568cdb"
      },
      "source": [
        "# We use 'model', 'num_passengers' and 'vehicle_use' to pick relevant records. \n",
        "# further we use COUNT() funtion for each of the directions to determine the mode of direction.\n",
        "%%sql\n",
        "SELECT model, count(num_passengers) as 'no. of passengers'\n",
        "FROM t_accidents\n",
        "WHERE vehicle_use = 'RIDESHARE SERVICE'\n",
        "GROUP BY model \n",
        "ORDER BY count(num_passengers) desc\n",
        "LIMIT 5;"
      ],
      "execution_count": 31,
      "outputs": [
        {
          "output_type": "stream",
          "text": [
            " * sqlite://\n",
            "Done.\n"
          ],
          "name": "stdout"
        },
        {
          "output_type": "execute_result",
          "data": {
            "text/html": [
              "<table>\n",
              "    <tr>\n",
              "        <th>model</th>\n",
              "        <th>no. of passengers</th>\n",
              "    </tr>\n",
              "    <tr>\n",
              "        <td>UNKNOWN</td>\n",
              "        <td>4</td>\n",
              "    </tr>\n",
              "    <tr>\n",
              "        <td>CAMRY</td>\n",
              "        <td>3</td>\n",
              "    </tr>\n",
              "    <tr>\n",
              "        <td>COROLLA</td>\n",
              "        <td>3</td>\n",
              "    </tr>\n",
              "    <tr>\n",
              "        <td>NISSAN ALTIMA</td>\n",
              "        <td>3</td>\n",
              "    </tr>\n",
              "    <tr>\n",
              "        <td>FUSION</td>\n",
              "        <td>2</td>\n",
              "    </tr>\n",
              "</table>"
            ],
            "text/plain": [
              "[('UNKNOWN', 4),\n",
              " ('CAMRY', 3),\n",
              " ('COROLLA', 3),\n",
              " ('NISSAN ALTIMA', 3),\n",
              " ('FUSION', 2)]"
            ]
          },
          "metadata": {
            "tags": []
          },
          "execution_count": 31
        }
      ]
    },
    {
      "cell_type": "markdown",
      "metadata": {
        "id": "BcjfU83wPXYh",
        "colab_type": "text"
      },
      "source": [
        "<em><font color = lightblue> The ridesharing model of vehicles which had most number of passengers were, unfortunately, not classified but registered only as \"Unknown\"</font></em>"
      ]
    },
    {
      "cell_type": "markdown",
      "metadata": {
        "id": "yn9i3BG6xt3W",
        "colab_type": "text"
      },
      "source": [
        "## Step 4. Recommendations"
      ]
    },
    {
      "cell_type": "markdown",
      "metadata": {
        "id": "8VgTz2HsGo0p",
        "colab_type": "text"
      },
      "source": [
        "From the foregoing analysis, we are able to make the following recommendations to the Office of Mayor of Chicago on the steps to take that would lead to a reduction in car crashes. \n",
        "\n",
        "* **Recommendation:** Carry out deeper root-cause analysis (RCA) on the following; \n",
        "\n",
        "\n",
        "1.   Why Toyota and Ford make of vehicles are the most frequently make of   cars involved in crashes. (Could it be because of the fact that there are more of such cars on the road than other makes hence more probable to make crashes?)\n",
        "\n",
        "2.   Why cars travelling to the North and to the South are the most frequently cars involved in crashes. (Could it be the state of of the North-South Road?, other associated road users along the road like many pedestrians or large haulier trucks? etc.) \n"
      ]
    }
  ]
}