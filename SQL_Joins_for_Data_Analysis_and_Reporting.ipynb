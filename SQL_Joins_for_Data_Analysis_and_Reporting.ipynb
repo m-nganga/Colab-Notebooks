{
  "nbformat": 4,
  "nbformat_minor": 0,
  "metadata": {
    "colab": {
      "name": "SQL Joins for Data Analysis and Reporting",
      "provenance": [],
      "collapsed_sections": [],
      "include_colab_link": true
    },
    "kernelspec": {
      "name": "python3",
      "display_name": "Python 3"
    }
  },
  "cells": [
    {
      "cell_type": "markdown",
      "metadata": {
        "id": "view-in-github",
        "colab_type": "text"
      },
      "source": [
        "<a href=\"https://colab.research.google.com/github/m-nganga/SQL-4-DS-Dojo/blob/master/SQL_Joins_for_Data_Analysis_and_Reporting.ipynb\" target=\"_parent\"><img src=\"https://colab.research.google.com/assets/colab-badge.svg\" alt=\"Open In Colab\"/></a>"
      ]
    },
    {
      "cell_type": "markdown",
      "metadata": {
        "id": "2YQMPI01tPZI",
        "colab_type": "text"
      },
      "source": [
        "# SQL Joins for Data Analysis and Reporting"
      ]
    },
    {
      "cell_type": "markdown",
      "metadata": {
        "id": "EC-xadaztZZb",
        "colab_type": "text"
      },
      "source": [
        "## Overview \n"
      ]
    },
    {
      "cell_type": "markdown",
      "metadata": {
        "id": "RKVwqBp4tb0f",
        "colab_type": "text"
      },
      "source": [
        "A Study of SQL Joins.\n"
      ]
    },
    {
      "cell_type": "markdown",
      "metadata": {
        "id": "a0y1Z-ih6n5q",
        "colab_type": "text"
      },
      "source": [
        "## Useful Information"
      ]
    },
    {
      "cell_type": "markdown",
      "metadata": {
        "id": "ugL6e3mbtkDN",
        "colab_type": "text"
      },
      "source": [
        "We have three datasets;   \n",
        "1. Customer dataset with 10 customer records.\n",
        "2. Customer addresses... a separate dataset (which ideally could have been part of the customer dataset) for the sake of learning.\n",
        "3. Transactions dataset which is a record of all transactions carried out by different customers."
      ]
    },
    {
      "cell_type": "markdown",
      "metadata": {
        "id": "UcO2iuQqtgsb",
        "colab_type": "text"
      },
      "source": [
        "## Step 1. Pre-requisites"
      ]
    },
    {
      "cell_type": "code",
      "metadata": {
        "id": "gDqs0vZDsmZc",
        "colab_type": "code",
        "colab": {
          "base_uri": "https://localhost:8080/",
          "height": 34
        },
        "outputId": "91dc23b3-b0fd-4426-b064-71002f88ea13"
      },
      "source": [
        "# Importing pandas library which will help in reading of data from an external \n",
        "#source as well and its manipulation.\n",
        "import pandas as pd\n",
        "\n",
        "# Loading SQL extension which will allow us to run SQL code in our Notebook.\n",
        "%load_ext sql\n",
        "\n",
        "# Connecting to an in memory SQLite database within colaboratory\n",
        "%sql sqlite://"
      ],
      "execution_count": 1,
      "outputs": [
        {
          "output_type": "execute_result",
          "data": {
            "application/vnd.google.colaboratory.intrinsic+json": {
              "type": "string"
            },
            "text/plain": [
              "'Connected: @None'"
            ]
          },
          "metadata": {
            "tags": []
          },
          "execution_count": 1
        }
      ]
    },
    {
      "cell_type": "markdown",
      "metadata": {
        "id": "vdIJCFwIwdKC",
        "colab_type": "text"
      },
      "source": [
        "## Step 2. Preparing Datasets"
      ]
    },
    {
      "cell_type": "markdown",
      "metadata": {
        "id": "utYttIJBda6D",
        "colab_type": "text"
      },
      "source": [
        "### Step 2.1 Importing Datasets"
      ]
    },
    {
      "cell_type": "markdown",
      "metadata": {
        "id": "tHWAftYsdqAr",
        "colab_type": "text"
      },
      "source": [
        "The dataset on customer"
      ]
    },
    {
      "cell_type": "code",
      "metadata": {
        "id": "WY2DSLU0d96t",
        "colab_type": "code",
        "colab": {
          "base_uri": "https://localhost:8080/",
          "height": 86
        },
        "outputId": "f1fccba3-bc67-4d50-c97a-54a62a4ae321"
      },
      "source": [
        "# Load the customer demographic dataset from an external csv file and store it in a dataframe called customer\n",
        "customer = pd.read_csv('customer_demographics.csv', sep=',', encoding='latin-1')\n",
        "\n",
        "#Store the dataset in our in memory sqlite database. but for controls, check \n",
        "#first if the table exists in the database, and if so drop it. \n",
        "%sql DROP TABLE if EXISTS customer\n",
        "\n",
        "#Finally create an SQL table of our sqlite database and store \n",
        "#the recordset in readiness for further analysis with SQL \n",
        "%sql PERSIST customer;"
      ],
      "execution_count": 42,
      "outputs": [
        {
          "output_type": "stream",
          "text": [
            " * sqlite://\n",
            "Done.\n",
            " * sqlite://\n"
          ],
          "name": "stdout"
        },
        {
          "output_type": "execute_result",
          "data": {
            "application/vnd.google.colaboratory.intrinsic+json": {
              "type": "string"
            },
            "text/plain": [
              "'Persisted customer'"
            ]
          },
          "metadata": {
            "tags": []
          },
          "execution_count": 42
        }
      ]
    },
    {
      "cell_type": "markdown",
      "metadata": {
        "id": "EDgSWP8hdWim",
        "colab_type": "text"
      },
      "source": [
        "The dataset on customer addresses"
      ]
    },
    {
      "cell_type": "code",
      "metadata": {
        "id": "sv4V_dsXwwjA",
        "colab_type": "code",
        "colab": {
          "base_uri": "https://localhost:8080/",
          "height": 86
        },
        "outputId": "3d91db0d-9a55-4ade-b6df-089dcec39870"
      },
      "source": [
        "# Load the customer address dataset from an external csv file and store it in a dataframe \"address\"\n",
        "address = pd.read_csv('customer_address.csv')\n",
        "\n",
        "#check for table existence and drop it accordingly.\n",
        "%sql DROP TABLE if EXISTS address;\n",
        "\n",
        "#Finally create an SQL table in the sqlite database running in memory and store \n",
        "#the recordset in readiness for further analysis with SQL \n",
        "%sql PERSIST address; \n"
      ],
      "execution_count": 43,
      "outputs": [
        {
          "output_type": "stream",
          "text": [
            " * sqlite://\n",
            "Done.\n",
            " * sqlite://\n"
          ],
          "name": "stdout"
        },
        {
          "output_type": "execute_result",
          "data": {
            "application/vnd.google.colaboratory.intrinsic+json": {
              "type": "string"
            },
            "text/plain": [
              "'Persisted address'"
            ]
          },
          "metadata": {
            "tags": []
          },
          "execution_count": 43
        }
      ]
    },
    {
      "cell_type": "markdown",
      "metadata": {
        "colab_type": "text",
        "id": "Gotr5KEjAv8E"
      },
      "source": [
        "The dataset on customer transactions"
      ]
    },
    {
      "cell_type": "code",
      "metadata": {
        "colab_type": "code",
        "id": "qO1QTX1qA4Q8",
        "colab": {
          "base_uri": "https://localhost:8080/",
          "height": 86
        },
        "outputId": "9feb22bf-f545-4754-e128-48d9a64c9272"
      },
      "source": [
        "# Load the customer transactions dataset from an external csv file and store it in a dataframe \"transactions\"\n",
        "transactions = pd.read_csv('transactions.csv')\n",
        "\n",
        "#check for table existence and drop it accordingly.\n",
        "%sql DROP TABLE if EXISTS transactions;\n",
        "\n",
        "#Finally create an SQL table in the sqlite database running in memory and store \n",
        "#the recordset in readiness for further analysis with SQL \n",
        "%sql PERSIST transactions; \n"
      ],
      "execution_count": 44,
      "outputs": [
        {
          "output_type": "stream",
          "text": [
            " * sqlite://\n",
            "Done.\n",
            " * sqlite://\n"
          ],
          "name": "stdout"
        },
        {
          "output_type": "execute_result",
          "data": {
            "application/vnd.google.colaboratory.intrinsic+json": {
              "type": "string"
            },
            "text/plain": [
              "'Persisted transactions'"
            ]
          },
          "metadata": {
            "tags": []
          },
          "execution_count": 44
        }
      ]
    },
    {
      "cell_type": "markdown",
      "metadata": {
        "id": "2UMYi1qEgfZB",
        "colab_type": "text"
      },
      "source": [
        "### Step 2.2 Sampling Recordset"
      ]
    },
    {
      "cell_type": "code",
      "metadata": {
        "id": "G5m7HQFuzAGF",
        "colab_type": "code",
        "colab": {
          "base_uri": "https://localhost:8080/",
          "height": 486
        },
        "outputId": "6e04c2f0-49ac-47e1-c17f-d8af80ae8d5e"
      },
      "source": [
        "# Sampling the first few records for each of the datasets created in order to \n",
        "# understand their structure.\n",
        "\n",
        "# head() function for the weather dataframe and the SQL query with \n",
        "# a LIMIT condition for the cab_rides dataset.\n",
        "\n",
        "#customer.head(11)      #use the dataframe instead\n",
        "%sql SELECT * FROM customer LIMIT 10"
      ],
      "execution_count": 45,
      "outputs": [
        {
          "output_type": "stream",
          "text": [
            " * sqlite://\n",
            "Done.\n"
          ],
          "name": "stdout"
        },
        {
          "output_type": "execute_result",
          "data": {
            "text/html": [
              "<table>\n",
              "    <tr>\n",
              "        <th>index</th>\n",
              "        <th>customer_id</th>\n",
              "        <th>first_name</th>\n",
              "        <th>last_name</th>\n",
              "        <th>gender</th>\n",
              "        <th>past_3_years_bike_related_purchases</th>\n",
              "        <th>DOB</th>\n",
              "        <th>job_title</th>\n",
              "        <th>job_industry_category</th>\n",
              "        <th>wealth_segment</th>\n",
              "        <th>deceased_indicator</th>\n",
              "        <th>default</th>\n",
              "        <th>owns_car</th>\n",
              "        <th>tenure</th>\n",
              "    </tr>\n",
              "    <tr>\n",
              "        <td>0</td>\n",
              "        <td>1</td>\n",
              "        <td>Laraine</td>\n",
              "        <td>Medendorp</td>\n",
              "        <td>F</td>\n",
              "        <td>93</td>\n",
              "        <td>10/12/1953</td>\n",
              "        <td>Executive Secretary</td>\n",
              "        <td>Health</td>\n",
              "        <td>Mass Customer</td>\n",
              "        <td>N</td>\n",
              "        <td>&quot;&#x27;</td>\n",
              "        <td>Yes</td>\n",
              "        <td>11</td>\n",
              "    </tr>\n",
              "    <tr>\n",
              "        <td>1</td>\n",
              "        <td>2</td>\n",
              "        <td>Eli</td>\n",
              "        <td>Bockman</td>\n",
              "        <td>Male</td>\n",
              "        <td>81</td>\n",
              "        <td>12/16/1980</td>\n",
              "        <td>Administrative Officer</td>\n",
              "        <td>Financial Services</td>\n",
              "        <td>Mass Customer</td>\n",
              "        <td>N</td>\n",
              "        <td>&lt;script&gt;alert(&#x27;hi&#x27;)&lt;/script&gt;</td>\n",
              "        <td>Yes</td>\n",
              "        <td>16</td>\n",
              "    </tr>\n",
              "    <tr>\n",
              "        <td>2</td>\n",
              "        <td>3</td>\n",
              "        <td>Arlin</td>\n",
              "        <td>Dearle</td>\n",
              "        <td>Male</td>\n",
              "        <td>61</td>\n",
              "        <td>1/20/1954</td>\n",
              "        <td>Recruiting Manager</td>\n",
              "        <td>Property</td>\n",
              "        <td>Mass Customer</td>\n",
              "        <td>N</td>\n",
              "        <td>1-Feb</td>\n",
              "        <td>Yes</td>\n",
              "        <td>15</td>\n",
              "    </tr>\n",
              "    <tr>\n",
              "        <td>3</td>\n",
              "        <td>4</td>\n",
              "        <td>Talbot</td>\n",
              "        <td>None</td>\n",
              "        <td>Male</td>\n",
              "        <td>33</td>\n",
              "        <td>10/3/1961</td>\n",
              "        <td>None</td>\n",
              "        <td>IT</td>\n",
              "        <td>Mass Customer</td>\n",
              "        <td>N</td>\n",
              "        <td>() { _; } &gt;_[$($())] { touch /tmp/blns.shellshock2.fail; }</td>\n",
              "        <td>No</td>\n",
              "        <td>7</td>\n",
              "    </tr>\n",
              "    <tr>\n",
              "        <td>4</td>\n",
              "        <td>5</td>\n",
              "        <td>Sheila-kathryn</td>\n",
              "        <td>Calton</td>\n",
              "        <td>Female</td>\n",
              "        <td>56</td>\n",
              "        <td>5/13/1977</td>\n",
              "        <td>Senior Editor</td>\n",
              "        <td>None</td>\n",
              "        <td>Affluent Customer</td>\n",
              "        <td>N</td>\n",
              "        <td>NIL</td>\n",
              "        <td>Yes</td>\n",
              "        <td>8</td>\n",
              "    </tr>\n",
              "    <tr>\n",
              "        <td>5</td>\n",
              "        <td>6</td>\n",
              "        <td>Curr</td>\n",
              "        <td>Duckhouse</td>\n",
              "        <td>Male</td>\n",
              "        <td>35</td>\n",
              "        <td>9/16/1966</td>\n",
              "        <td>None</td>\n",
              "        <td>Retail</td>\n",
              "        <td>High Net Worth</td>\n",
              "        <td>N</td>\n",
              "        <td>ðµ ð ð ð</td>\n",
              "        <td>Yes</td>\n",
              "        <td>13</td>\n",
              "    </tr>\n",
              "    <tr>\n",
              "        <td>6</td>\n",
              "        <td>7</td>\n",
              "        <td>Fina</td>\n",
              "        <td>Merali</td>\n",
              "        <td>Female</td>\n",
              "        <td>6</td>\n",
              "        <td>2/23/1976</td>\n",
              "        <td>None</td>\n",
              "        <td>Financial Services</td>\n",
              "        <td>Affluent Customer</td>\n",
              "        <td>N</td>\n",
              "        <td>â°â´âµâââ</td>\n",
              "        <td>Yes</td>\n",
              "        <td>11</td>\n",
              "    </tr>\n",
              "    <tr>\n",
              "        <td>7</td>\n",
              "        <td>8</td>\n",
              "        <td>Rod</td>\n",
              "        <td>Inder</td>\n",
              "        <td>Male</td>\n",
              "        <td>31</td>\n",
              "        <td>3/30/1962</td>\n",
              "        <td>Media Manager I</td>\n",
              "        <td>None</td>\n",
              "        <td>Mass Customer</td>\n",
              "        <td>N</td>\n",
              "        <td>(â¯Â°â¡Â°ï¼â¯ï¸µ â»ââ»)</td>\n",
              "        <td>No</td>\n",
              "        <td>7</td>\n",
              "    </tr>\n",
              "    <tr>\n",
              "        <td>8</td>\n",
              "        <td>9</td>\n",
              "        <td>Mala</td>\n",
              "        <td>Lind</td>\n",
              "        <td>Female</td>\n",
              "        <td>97</td>\n",
              "        <td>3/10/1973</td>\n",
              "        <td>Business Systems Development Analyst</td>\n",
              "        <td>Argiculture</td>\n",
              "        <td>Affluent Customer</td>\n",
              "        <td>N</td>\n",
              "        <td>0/0</td>\n",
              "        <td>Yes</td>\n",
              "        <td>8</td>\n",
              "    </tr>\n",
              "    <tr>\n",
              "        <td>9</td>\n",
              "        <td>10</td>\n",
              "        <td>Fiorenze</td>\n",
              "        <td>Birdall</td>\n",
              "        <td>Female</td>\n",
              "        <td>49</td>\n",
              "        <td>10/11/1988</td>\n",
              "        <td>Senior Quality Engineer</td>\n",
              "        <td>Financial Services</td>\n",
              "        <td>Mass Customer</td>\n",
              "        <td>N</td>\n",
              "        <td>ð©ð½</td>\n",
              "        <td>Yes</td>\n",
              "        <td>20</td>\n",
              "    </tr>\n",
              "</table>"
            ],
            "text/plain": [
              "[(0, 1, 'Laraine', 'Medendorp', 'F', 93, '10/12/1953', 'Executive Secretary', 'Health', 'Mass Customer', 'N', '\"\\'', 'Yes', 11),\n",
              " (1, 2, 'Eli', 'Bockman', 'Male', 81, '12/16/1980', 'Administrative Officer', 'Financial Services', 'Mass Customer', 'N', \"<script>alert('hi')</script>\", 'Yes', 16),\n",
              " (2, 3, 'Arlin', 'Dearle', 'Male', 61, '1/20/1954', 'Recruiting Manager', 'Property', 'Mass Customer', 'N', '1-Feb', 'Yes', 15),\n",
              " (3, 4, 'Talbot', None, 'Male', 33, '10/3/1961', None, 'IT', 'Mass Customer', 'N', '() { _; } >_[$($())] { touch /tmp/blns.shellshock2.fail; }', 'No', 7),\n",
              " (4, 5, 'Sheila-kathryn', 'Calton', 'Female', 56, '5/13/1977', 'Senior Editor', None, 'Affluent Customer', 'N', 'NIL', 'Yes', 8),\n",
              " (5, 6, 'Curr', 'Duckhouse', 'Male', 35, '9/16/1966', None, 'Retail', 'High Net Worth', 'N', 'ðµ ð ð ð', 'Yes', 13),\n",
              " (6, 7, 'Fina', 'Merali', 'Female', 6, '2/23/1976', None, 'Financial Services', 'Affluent Customer', 'N', 'â°â´âµâââ', 'Yes', 11),\n",
              " (7, 8, 'Rod', 'Inder', 'Male', 31, '3/30/1962', 'Media Manager I', None, 'Mass Customer', 'N', '(â¯Â°â¡Â°ï¼â¯ï¸µ â»ââ»)', 'No', 7),\n",
              " (8, 9, 'Mala', 'Lind', 'Female', 97, '3/10/1973', 'Business Systems Development Analyst', 'Argiculture', 'Affluent Customer', 'N', '0/0', 'Yes', 8),\n",
              " (9, 10, 'Fiorenze', 'Birdall', 'Female', 49, '10/11/1988', 'Senior Quality Engineer', 'Financial Services', 'Mass Customer', 'N', 'ð©ð½', 'Yes', 20)]"
            ]
          },
          "metadata": {
            "tags": []
          },
          "execution_count": 45
        }
      ]
    },
    {
      "cell_type": "code",
      "metadata": {
        "id": "3_yj2v5XiUul",
        "colab_type": "code",
        "colab": {
          "base_uri": "https://localhost:8080/",
          "height": 221
        },
        "outputId": "9aea2d00-757c-401a-ad0e-e69d16931177"
      },
      "source": [
        "%sql SELECT * FROM address LIMIT 10"
      ],
      "execution_count": 46,
      "outputs": [
        {
          "output_type": "stream",
          "text": [
            " * sqlite://\n",
            "Done.\n"
          ],
          "name": "stdout"
        },
        {
          "output_type": "execute_result",
          "data": {
            "text/html": [
              "<table>\n",
              "    <tr>\n",
              "        <th>index</th>\n",
              "        <th>customer_id</th>\n",
              "        <th>address</th>\n",
              "        <th>postcode</th>\n",
              "        <th>state</th>\n",
              "        <th>country</th>\n",
              "        <th>property_valuation</th>\n",
              "    </tr>\n",
              "    <tr>\n",
              "        <td>0</td>\n",
              "        <td>1</td>\n",
              "        <td>060 Morning Avenue</td>\n",
              "        <td>2016</td>\n",
              "        <td>New South Wales</td>\n",
              "        <td>Australia</td>\n",
              "        <td>10</td>\n",
              "    </tr>\n",
              "    <tr>\n",
              "        <td>1</td>\n",
              "        <td>2</td>\n",
              "        <td>6 Meadow Vale Court</td>\n",
              "        <td>2153</td>\n",
              "        <td>New South Wales</td>\n",
              "        <td>Australia</td>\n",
              "        <td>10</td>\n",
              "    </tr>\n",
              "    <tr>\n",
              "        <td>2</td>\n",
              "        <td>3</td>\n",
              "        <td>2 Sutherland Street</td>\n",
              "        <td>3799</td>\n",
              "        <td>VIC</td>\n",
              "        <td>Australia</td>\n",
              "        <td>6</td>\n",
              "    </tr>\n",
              "    <tr>\n",
              "        <td>3</td>\n",
              "        <td>4</td>\n",
              "        <td>0 Holy Cross Court</td>\n",
              "        <td>4211</td>\n",
              "        <td>QLD</td>\n",
              "        <td>Australia</td>\n",
              "        <td>9</td>\n",
              "    </tr>\n",
              "    <tr>\n",
              "        <td>4</td>\n",
              "        <td>5</td>\n",
              "        <td>17979 Del Mar Point</td>\n",
              "        <td>2448</td>\n",
              "        <td>New South Wales</td>\n",
              "        <td>Australia</td>\n",
              "        <td>4</td>\n",
              "    </tr>\n",
              "    <tr>\n",
              "        <td>5</td>\n",
              "        <td>6</td>\n",
              "        <td>9 Oakridge Court</td>\n",
              "        <td>3216</td>\n",
              "        <td>VIC</td>\n",
              "        <td>Australia</td>\n",
              "        <td>9</td>\n",
              "    </tr>\n",
              "    <tr>\n",
              "        <td>6</td>\n",
              "        <td>7</td>\n",
              "        <td>4 Delaware Trail</td>\n",
              "        <td>2210</td>\n",
              "        <td>New South Wales</td>\n",
              "        <td>Australia</td>\n",
              "        <td>9</td>\n",
              "    </tr>\n",
              "    <tr>\n",
              "        <td>7</td>\n",
              "        <td>8</td>\n",
              "        <td>49 Londonderry Lane</td>\n",
              "        <td>2650</td>\n",
              "        <td>New South Wales</td>\n",
              "        <td>Australia</td>\n",
              "        <td>4</td>\n",
              "    </tr>\n",
              "</table>"
            ],
            "text/plain": [
              "[(0, 1, '060 Morning Avenue', 2016, 'New South Wales', 'Australia', 10),\n",
              " (1, 2, '6 Meadow Vale Court', 2153, 'New South Wales', 'Australia', 10),\n",
              " (2, 3, '2 Sutherland Street', 3799, 'VIC', 'Australia', 6),\n",
              " (3, 4, '0 Holy Cross Court', 4211, 'QLD', 'Australia', 9),\n",
              " (4, 5, '17979 Del Mar Point', 2448, 'New South Wales', 'Australia', 4),\n",
              " (5, 6, '9 Oakridge Court', 3216, 'VIC', 'Australia', 9),\n",
              " (6, 7, '4 Delaware Trail', 2210, 'New South Wales', 'Australia', 9),\n",
              " (7, 8, '49 Londonderry Lane', 2650, 'New South Wales', 'Australia', 4)]"
            ]
          },
          "metadata": {
            "tags": []
          },
          "execution_count": 46
        }
      ]
    },
    {
      "cell_type": "code",
      "metadata": {
        "colab_type": "code",
        "id": "1iuYLZt2Nhi_",
        "colab": {
          "base_uri": "https://localhost:8080/",
          "height": 258
        },
        "outputId": "970a53b2-7cf4-48f0-a300-c6f58c658ab9"
      },
      "source": [
        "%sql SELECT * FROM transactions"
      ],
      "execution_count": 47,
      "outputs": [
        {
          "output_type": "stream",
          "text": [
            " * sqlite://\n",
            "Done.\n"
          ],
          "name": "stdout"
        },
        {
          "output_type": "execute_result",
          "data": {
            "text/html": [
              "<table>\n",
              "    <tr>\n",
              "        <th>index</th>\n",
              "        <th>transaction_id</th>\n",
              "        <th>product_id</th>\n",
              "        <th>customer_id</th>\n",
              "        <th>transaction_date</th>\n",
              "        <th>online_order</th>\n",
              "        <th>order_status</th>\n",
              "        <th>brand</th>\n",
              "        <th>product_line</th>\n",
              "        <th>product_class</th>\n",
              "        <th>product_size</th>\n",
              "        <th>list_price</th>\n",
              "        <th>standard_cost</th>\n",
              "        <th>product_first_sold_date</th>\n",
              "    </tr>\n",
              "    <tr>\n",
              "        <td>0</td>\n",
              "        <td>1</td>\n",
              "        <td>2</td>\n",
              "        <td>2</td>\n",
              "        <td>2/25/2017</td>\n",
              "        <td>0</td>\n",
              "        <td>Approved</td>\n",
              "        <td>Solex</td>\n",
              "        <td>Standard</td>\n",
              "        <td>medium</td>\n",
              "        <td>medium</td>\n",
              "        <td>71.49</td>\n",
              "        <td>$53.62</td>\n",
              "        <td>41245</td>\n",
              "    </tr>\n",
              "    <tr>\n",
              "        <td>1</td>\n",
              "        <td>2</td>\n",
              "        <td>3</td>\n",
              "        <td>2</td>\n",
              "        <td>5/21/2017</td>\n",
              "        <td>1</td>\n",
              "        <td>Approved</td>\n",
              "        <td>Trek Bicycles</td>\n",
              "        <td>Standard</td>\n",
              "        <td>medium</td>\n",
              "        <td>large</td>\n",
              "        <td>2091.47</td>\n",
              "        <td>$388.92</td>\n",
              "        <td>41701</td>\n",
              "    </tr>\n",
              "    <tr>\n",
              "        <td>2</td>\n",
              "        <td>3</td>\n",
              "        <td>37</td>\n",
              "        <td>6</td>\n",
              "        <td>10/16/2017</td>\n",
              "        <td>0</td>\n",
              "        <td>Approved</td>\n",
              "        <td>OHM Cycles</td>\n",
              "        <td>Standard</td>\n",
              "        <td>low</td>\n",
              "        <td>medium</td>\n",
              "        <td>1793.43</td>\n",
              "        <td>$248.82</td>\n",
              "        <td>36361</td>\n",
              "    </tr>\n",
              "    <tr>\n",
              "        <td>3</td>\n",
              "        <td>4</td>\n",
              "        <td>88</td>\n",
              "        <td>4</td>\n",
              "        <td>8/31/2017</td>\n",
              "        <td>0</td>\n",
              "        <td>Approved</td>\n",
              "        <td>Norco Bicycles</td>\n",
              "        <td>Standard</td>\n",
              "        <td>medium</td>\n",
              "        <td>medium</td>\n",
              "        <td>1198.46</td>\n",
              "        <td>$381.10</td>\n",
              "        <td>36145</td>\n",
              "    </tr>\n",
              "    <tr>\n",
              "        <td>4</td>\n",
              "        <td>5</td>\n",
              "        <td>78</td>\n",
              "        <td>6</td>\n",
              "        <td>10/1/2017</td>\n",
              "        <td>1</td>\n",
              "        <td>Approved</td>\n",
              "        <td>Giant Bicycles</td>\n",
              "        <td>Standard</td>\n",
              "        <td>medium</td>\n",
              "        <td>large</td>\n",
              "        <td>1765.3</td>\n",
              "        <td>$709.48</td>\n",
              "        <td>42226</td>\n",
              "    </tr>\n",
              "    <tr>\n",
              "        <td>5</td>\n",
              "        <td>6</td>\n",
              "        <td>25</td>\n",
              "        <td>6</td>\n",
              "        <td>3/8/2017</td>\n",
              "        <td>1</td>\n",
              "        <td>Approved</td>\n",
              "        <td>Giant Bicycles</td>\n",
              "        <td>Road</td>\n",
              "        <td>medium</td>\n",
              "        <td>medium</td>\n",
              "        <td>1538.99</td>\n",
              "        <td>$829.65</td>\n",
              "        <td>39031</td>\n",
              "    </tr>\n",
              "    <tr>\n",
              "        <td>6</td>\n",
              "        <td>7</td>\n",
              "        <td>22</td>\n",
              "        <td>6</td>\n",
              "        <td>4/21/2017</td>\n",
              "        <td>1</td>\n",
              "        <td>Approved</td>\n",
              "        <td>WeareA2B</td>\n",
              "        <td>Standard</td>\n",
              "        <td>medium</td>\n",
              "        <td>medium</td>\n",
              "        <td>60.34</td>\n",
              "        <td>$45.26</td>\n",
              "        <td>34165</td>\n",
              "    </tr>\n",
              "    <tr>\n",
              "        <td>7</td>\n",
              "        <td>8</td>\n",
              "        <td>15</td>\n",
              "        <td>8</td>\n",
              "        <td>7/15/2017</td>\n",
              "        <td>0</td>\n",
              "        <td>Approved</td>\n",
              "        <td>WeareA2B</td>\n",
              "        <td>Standard</td>\n",
              "        <td>medium</td>\n",
              "        <td>medium</td>\n",
              "        <td>1292.84</td>\n",
              "        <td>$13.44</td>\n",
              "        <td>39915</td>\n",
              "    </tr>\n",
              "    <tr>\n",
              "        <td>8</td>\n",
              "        <td>9</td>\n",
              "        <td>12</td>\n",
              "        <td>10</td>\n",
              "        <td>8/30/2017</td>\n",
              "        <td>1</td>\n",
              "        <td>Approved</td>\n",
              "        <td>WeareA2B</td>\n",
              "        <td>Standard</td>\n",
              "        <td>medium</td>\n",
              "        <td>medium</td>\n",
              "        <td>1231.15</td>\n",
              "        <td>$161.60</td>\n",
              "        <td>38216</td>\n",
              "    </tr>\n",
              "    <tr>\n",
              "        <td>9</td>\n",
              "        <td>10</td>\n",
              "        <td>5</td>\n",
              "        <td>11</td>\n",
              "        <td>1/17/2017</td>\n",
              "        <td>0</td>\n",
              "        <td>Approved</td>\n",
              "        <td>Trek Bicycles</td>\n",
              "        <td>Mountain</td>\n",
              "        <td>low</td>\n",
              "        <td>medium</td>\n",
              "        <td>574.64</td>\n",
              "        <td>$459.71</td>\n",
              "        <td>40784</td>\n",
              "    </tr>\n",
              "</table>"
            ],
            "text/plain": [
              "[(0, 1, 2, 2, '2/25/2017', 0, 'Approved', 'Solex', 'Standard', 'medium', 'medium', 71.49, '$53.62', 41245),\n",
              " (1, 2, 3, 2, '5/21/2017', 1, 'Approved', 'Trek Bicycles', 'Standard', 'medium', 'large', 2091.47, '$388.92', 41701),\n",
              " (2, 3, 37, 6, '10/16/2017', 0, 'Approved', 'OHM Cycles', 'Standard', 'low', 'medium', 1793.43, '$248.82', 36361),\n",
              " (3, 4, 88, 4, '8/31/2017', 0, 'Approved', 'Norco Bicycles', 'Standard', 'medium', 'medium', 1198.46, '$381.10', 36145),\n",
              " (4, 5, 78, 6, '10/1/2017', 1, 'Approved', 'Giant Bicycles', 'Standard', 'medium', 'large', 1765.3, '$709.48', 42226),\n",
              " (5, 6, 25, 6, '3/8/2017', 1, 'Approved', 'Giant Bicycles', 'Road', 'medium', 'medium', 1538.99, '$829.65', 39031),\n",
              " (6, 7, 22, 6, '4/21/2017', 1, 'Approved', 'WeareA2B', 'Standard', 'medium', 'medium', 60.34, '$45.26', 34165),\n",
              " (7, 8, 15, 8, '7/15/2017', 0, 'Approved', 'WeareA2B', 'Standard', 'medium', 'medium', 1292.84, '$13.44', 39915),\n",
              " (8, 9, 12, 10, '8/30/2017', 1, 'Approved', 'WeareA2B', 'Standard', 'medium', 'medium', 1231.15, '$161.60', 38216),\n",
              " (9, 10, 5, 11, '1/17/2017', 0, 'Approved', 'Trek Bicycles', 'Mountain', 'low', 'medium', 574.64, '$459.71', 40784)]"
            ]
          },
          "metadata": {
            "tags": []
          },
          "execution_count": 47
        }
      ]
    },
    {
      "cell_type": "markdown",
      "metadata": {
        "id": "EQWoOWiQwyyn",
        "colab_type": "text"
      },
      "source": [
        "## Step 3. SQL Joins\n",
        "Use SQL Joins to return matching records from the above."
      ]
    },
    {
      "cell_type": "markdown",
      "metadata": {
        "id": "ipFBY5frn5uo",
        "colab_type": "text"
      },
      "source": [
        "**1. List of all registered customers who have made purchases**"
      ]
    },
    {
      "cell_type": "code",
      "metadata": {
        "id": "Q8SEcpAPw21W",
        "colab_type": "code",
        "colab": {
          "base_uri": "https://localhost:8080/",
          "height": 272
        },
        "outputId": "dfaddd90-3911-4578-8620-a64da538bf47"
      },
      "source": [
        "#INNER JOIN DEMONSTATION \n",
        "#A record of all records common to customer table as well as transactions  table\n",
        "\n",
        "%%sql \n",
        "SELECT distinct c.*\n",
        "FROM customer c\n",
        "JOIN transactions t\n",
        "ON c.customer_id = t.customer_id"
      ],
      "execution_count": 71,
      "outputs": [
        {
          "output_type": "stream",
          "text": [
            " * sqlite://\n",
            "Done.\n"
          ],
          "name": "stdout"
        },
        {
          "output_type": "execute_result",
          "data": {
            "text/html": [
              "<table>\n",
              "    <tr>\n",
              "        <th>index</th>\n",
              "        <th>customer_id</th>\n",
              "        <th>first_name</th>\n",
              "        <th>last_name</th>\n",
              "        <th>gender</th>\n",
              "        <th>past_3_years_bike_related_purchases</th>\n",
              "        <th>DOB</th>\n",
              "        <th>job_title</th>\n",
              "        <th>job_industry_category</th>\n",
              "        <th>wealth_segment</th>\n",
              "        <th>deceased_indicator</th>\n",
              "        <th>default</th>\n",
              "        <th>owns_car</th>\n",
              "        <th>tenure</th>\n",
              "    </tr>\n",
              "    <tr>\n",
              "        <td>1</td>\n",
              "        <td>2</td>\n",
              "        <td>Eli</td>\n",
              "        <td>Bockman</td>\n",
              "        <td>Male</td>\n",
              "        <td>81</td>\n",
              "        <td>12/16/1980</td>\n",
              "        <td>Administrative Officer</td>\n",
              "        <td>Financial Services</td>\n",
              "        <td>Mass Customer</td>\n",
              "        <td>N</td>\n",
              "        <td>&lt;script&gt;alert(&#x27;hi&#x27;)&lt;/script&gt;</td>\n",
              "        <td>Yes</td>\n",
              "        <td>16</td>\n",
              "    </tr>\n",
              "    <tr>\n",
              "        <td>3</td>\n",
              "        <td>4</td>\n",
              "        <td>Talbot</td>\n",
              "        <td>None</td>\n",
              "        <td>Male</td>\n",
              "        <td>33</td>\n",
              "        <td>10/3/1961</td>\n",
              "        <td>None</td>\n",
              "        <td>IT</td>\n",
              "        <td>Mass Customer</td>\n",
              "        <td>N</td>\n",
              "        <td>() { _; } &gt;_[$($())] { touch /tmp/blns.shellshock2.fail; }</td>\n",
              "        <td>No</td>\n",
              "        <td>7</td>\n",
              "    </tr>\n",
              "    <tr>\n",
              "        <td>5</td>\n",
              "        <td>6</td>\n",
              "        <td>Curr</td>\n",
              "        <td>Duckhouse</td>\n",
              "        <td>Male</td>\n",
              "        <td>35</td>\n",
              "        <td>9/16/1966</td>\n",
              "        <td>None</td>\n",
              "        <td>Retail</td>\n",
              "        <td>High Net Worth</td>\n",
              "        <td>N</td>\n",
              "        <td>ðµ ð ð ð</td>\n",
              "        <td>Yes</td>\n",
              "        <td>13</td>\n",
              "    </tr>\n",
              "    <tr>\n",
              "        <td>7</td>\n",
              "        <td>8</td>\n",
              "        <td>Rod</td>\n",
              "        <td>Inder</td>\n",
              "        <td>Male</td>\n",
              "        <td>31</td>\n",
              "        <td>3/30/1962</td>\n",
              "        <td>Media Manager I</td>\n",
              "        <td>None</td>\n",
              "        <td>Mass Customer</td>\n",
              "        <td>N</td>\n",
              "        <td>(â¯Â°â¡Â°ï¼â¯ï¸µ â»ââ»)</td>\n",
              "        <td>No</td>\n",
              "        <td>7</td>\n",
              "    </tr>\n",
              "    <tr>\n",
              "        <td>9</td>\n",
              "        <td>10</td>\n",
              "        <td>Fiorenze</td>\n",
              "        <td>Birdall</td>\n",
              "        <td>Female</td>\n",
              "        <td>49</td>\n",
              "        <td>10/11/1988</td>\n",
              "        <td>Senior Quality Engineer</td>\n",
              "        <td>Financial Services</td>\n",
              "        <td>Mass Customer</td>\n",
              "        <td>N</td>\n",
              "        <td>ð©ð½</td>\n",
              "        <td>Yes</td>\n",
              "        <td>20</td>\n",
              "    </tr>\n",
              "</table>"
            ],
            "text/plain": [
              "[(1, 2, 'Eli', 'Bockman', 'Male', 81, '12/16/1980', 'Administrative Officer', 'Financial Services', 'Mass Customer', 'N', \"<script>alert('hi')</script>\", 'Yes', 16),\n",
              " (3, 4, 'Talbot', None, 'Male', 33, '10/3/1961', None, 'IT', 'Mass Customer', 'N', '() { _; } >_[$($())] { touch /tmp/blns.shellshock2.fail; }', 'No', 7),\n",
              " (5, 6, 'Curr', 'Duckhouse', 'Male', 35, '9/16/1966', None, 'Retail', 'High Net Worth', 'N', 'ðµ ð ð ð', 'Yes', 13),\n",
              " (7, 8, 'Rod', 'Inder', 'Male', 31, '3/30/1962', 'Media Manager I', None, 'Mass Customer', 'N', '(â¯Â°â¡Â°ï¼â¯ï¸µ â»ââ»)', 'No', 7),\n",
              " (9, 10, 'Fiorenze', 'Birdall', 'Female', 49, '10/11/1988', 'Senior Quality Engineer', 'Financial Services', 'Mass Customer', 'N', 'ð©ð½', 'Yes', 20)]"
            ]
          },
          "metadata": {
            "tags": []
          },
          "execution_count": 71
        }
      ]
    },
    {
      "cell_type": "markdown",
      "metadata": {
        "id": "lt32s_LK29ca",
        "colab_type": "text"
      },
      "source": [
        "<em><font color = lightblue>Only customers 2, 4, 6, 8 and 10 meet this condition.</font> </em>"
      ]
    },
    {
      "cell_type": "markdown",
      "metadata": {
        "id": "8eIaB284PGzp",
        "colab_type": "text"
      },
      "source": [
        "\n",
        "\n",
        "---\n",
        "\n"
      ]
    },
    {
      "cell_type": "markdown",
      "metadata": {
        "id": "nTq7WhiWxAgm",
        "colab_type": "text"
      },
      "source": [
        "**2. List customers in the transactions recordset who are not registered. (ideally this should not happen as transations table is a secondary table based on the customers records in the first place. The data has been organised this way for the sake of learning.) We only expect one record; customer record ID 11**"
      ]
    },
    {
      "cell_type": "code",
      "metadata": {
        "id": "4l4O8clc_Rw1",
        "colab_type": "code",
        "colab": {
          "base_uri": "https://localhost:8080/",
          "height": 90
        },
        "outputId": "b2c0e294-4f84-4823-d956-41165a2c3ed0"
      },
      "source": [
        "# LEFT OUTER JOIN WITH A WHERE CONDITION\n",
        "# Return all the records which are not in the table on the left of the JOIN.\n",
        "#This is similar to the RIGHT OUTER JOIN with a condition of Null for the table on the right of JOIN.\n",
        "\n",
        "%%sql \n",
        "SELECT t.*\n",
        "FROM transactions t\n",
        "LEFT JOIN customer c\n",
        "ON c.customer_id = t.customer_id\n",
        "WHERE c.customer_id isNULL"
      ],
      "execution_count": 59,
      "outputs": [
        {
          "output_type": "stream",
          "text": [
            " * sqlite://\n",
            "Done.\n"
          ],
          "name": "stdout"
        },
        {
          "output_type": "execute_result",
          "data": {
            "text/html": [
              "<table>\n",
              "    <tr>\n",
              "        <th>index</th>\n",
              "        <th>transaction_id</th>\n",
              "        <th>product_id</th>\n",
              "        <th>customer_id</th>\n",
              "        <th>transaction_date</th>\n",
              "        <th>online_order</th>\n",
              "        <th>order_status</th>\n",
              "        <th>brand</th>\n",
              "        <th>product_line</th>\n",
              "        <th>product_class</th>\n",
              "        <th>product_size</th>\n",
              "        <th>list_price</th>\n",
              "        <th>standard_cost</th>\n",
              "        <th>product_first_sold_date</th>\n",
              "    </tr>\n",
              "    <tr>\n",
              "        <td>9</td>\n",
              "        <td>10</td>\n",
              "        <td>5</td>\n",
              "        <td>11</td>\n",
              "        <td>1/17/2017</td>\n",
              "        <td>0</td>\n",
              "        <td>Approved</td>\n",
              "        <td>Trek Bicycles</td>\n",
              "        <td>Mountain</td>\n",
              "        <td>low</td>\n",
              "        <td>medium</td>\n",
              "        <td>574.64</td>\n",
              "        <td>$459.71</td>\n",
              "        <td>40784</td>\n",
              "    </tr>\n",
              "</table>"
            ],
            "text/plain": [
              "[(9, 10, 5, 11, '1/17/2017', 0, 'Approved', 'Trek Bicycles', 'Mountain', 'low', 'medium', 574.64, '$459.71', 40784)]"
            ]
          },
          "metadata": {
            "tags": []
          },
          "execution_count": 59
        }
      ]
    },
    {
      "cell_type": "markdown",
      "metadata": {
        "id": "ZQRkXWbisTvA",
        "colab_type": "text"
      },
      "source": [
        "**3. List customers whose addresses are missing**"
      ]
    },
    {
      "cell_type": "code",
      "metadata": {
        "id": "hFKi548rsS9S",
        "colab_type": "code",
        "colab": {
          "base_uri": "https://localhost:8080/",
          "height": 144
        },
        "outputId": "79a50210-f5ef-4c0e-ba95-c5aa9d410347"
      },
      "source": [
        "#LEFT OUTER JOIN DEMONSTATION\n",
        "# Return all the records which are not in the table on the right of the JOIN.\n",
        "\n",
        "%sql \n",
        "SELECT c.*\n",
        "FROM customer c\n",
        "LEFT JOIN address a\n",
        "ON c.customer_id = a.customer_id\n",
        "WHERE a.customer_id isNULL"
      ],
      "execution_count": null,
      "outputs": [
        {
          "output_type": "stream",
          "text": [
            " * sqlite://\n",
            "Done.\n"
          ],
          "name": "stdout"
        },
        {
          "output_type": "execute_result",
          "data": {
            "text/html": [
              "<table>\n",
              "    <tr>\n",
              "        <th>index</th>\n",
              "        <th>customer_id</th>\n",
              "        <th>first_name</th>\n",
              "        <th>last_name</th>\n",
              "        <th>gender</th>\n",
              "        <th>past_3_years_bike_related_purchases</th>\n",
              "        <th>DOB</th>\n",
              "        <th>job_title</th>\n",
              "        <th>job_industry_category</th>\n",
              "        <th>wealth_segment</th>\n",
              "        <th>deceased_indicator</th>\n",
              "        <th>default</th>\n",
              "        <th>owns_car</th>\n",
              "        <th>tenure</th>\n",
              "    </tr>\n",
              "    <tr>\n",
              "        <td>8</td>\n",
              "        <td>9</td>\n",
              "        <td>Mala</td>\n",
              "        <td>Lind</td>\n",
              "        <td>Female</td>\n",
              "        <td>97</td>\n",
              "        <td>3/10/1973</td>\n",
              "        <td>Business Systems Development Analyst</td>\n",
              "        <td>Argiculture</td>\n",
              "        <td>Affluent Customer</td>\n",
              "        <td>N</td>\n",
              "        <td>0/0</td>\n",
              "        <td>Yes</td>\n",
              "        <td>8</td>\n",
              "    </tr>\n",
              "    <tr>\n",
              "        <td>9</td>\n",
              "        <td>10</td>\n",
              "        <td>Fiorenze</td>\n",
              "        <td>Birdall</td>\n",
              "        <td>Female</td>\n",
              "        <td>49</td>\n",
              "        <td>10/11/1988</td>\n",
              "        <td>Senior Quality Engineer</td>\n",
              "        <td>Financial Services</td>\n",
              "        <td>Mass Customer</td>\n",
              "        <td>N</td>\n",
              "        <td>ð©ð½</td>\n",
              "        <td>Yes</td>\n",
              "        <td>20</td>\n",
              "    </tr>\n",
              "</table>"
            ],
            "text/plain": [
              "[(8, 9, 'Mala', 'Lind', 'Female', 97, '3/10/1973', 'Business Systems Development Analyst', 'Argiculture', 'Affluent Customer', 'N', '0/0', 'Yes', 8),\n",
              " (9, 10, 'Fiorenze', 'Birdall', 'Female', 49, '10/11/1988', 'Senior Quality Engineer', 'Financial Services', 'Mass Customer', 'N', 'ð©ð½', 'Yes', 20)]"
            ]
          },
          "metadata": {
            "tags": []
          },
          "execution_count": 64
        }
      ]
    },
    {
      "cell_type": "markdown",
      "metadata": {
        "colab_type": "text",
        "id": "vcljC4t8yGx9"
      },
      "source": [
        "**4. List customers who have not had purchases at all**"
      ]
    },
    {
      "cell_type": "code",
      "metadata": {
        "id": "Vu71C1_O_Rei",
        "colab_type": "code",
        "colab": {
          "base_uri": "https://localhost:8080/",
          "height": 217
        },
        "outputId": "548d74c1-0e69-4558-ab76-dc6fade0c1fd"
      },
      "source": [
        "#LEFT OUTER JOIN IMPLEMENTATION \n",
        "%%sql \n",
        "SELECT c.*\n",
        "FROM customer c\n",
        "LEFT JOIN transactions t\n",
        "ON c.customer_id = t.customer_id\n",
        "WHERE t.customer_id isNULL"
      ],
      "execution_count": null,
      "outputs": [
        {
          "output_type": "stream",
          "text": [
            " * sqlite://\n",
            "Done.\n"
          ],
          "name": "stdout"
        },
        {
          "output_type": "execute_result",
          "data": {
            "text/html": [
              "<table>\n",
              "    <tr>\n",
              "        <th>index</th>\n",
              "        <th>customer_id</th>\n",
              "        <th>first_name</th>\n",
              "        <th>last_name</th>\n",
              "        <th>gender</th>\n",
              "        <th>past_3_years_bike_related_purchases</th>\n",
              "        <th>DOB</th>\n",
              "        <th>job_title</th>\n",
              "        <th>job_industry_category</th>\n",
              "        <th>wealth_segment</th>\n",
              "        <th>deceased_indicator</th>\n",
              "        <th>default</th>\n",
              "        <th>owns_car</th>\n",
              "        <th>tenure</th>\n",
              "    </tr>\n",
              "    <tr>\n",
              "        <td>0</td>\n",
              "        <td>1</td>\n",
              "        <td>Laraine</td>\n",
              "        <td>Medendorp</td>\n",
              "        <td>F</td>\n",
              "        <td>93</td>\n",
              "        <td>10/12/1953</td>\n",
              "        <td>Executive Secretary</td>\n",
              "        <td>Health</td>\n",
              "        <td>Mass Customer</td>\n",
              "        <td>N</td>\n",
              "        <td>&quot;&#x27;</td>\n",
              "        <td>Yes</td>\n",
              "        <td>11</td>\n",
              "    </tr>\n",
              "    <tr>\n",
              "        <td>2</td>\n",
              "        <td>3</td>\n",
              "        <td>Arlin</td>\n",
              "        <td>Dearle</td>\n",
              "        <td>Male</td>\n",
              "        <td>61</td>\n",
              "        <td>1/20/1954</td>\n",
              "        <td>Recruiting Manager</td>\n",
              "        <td>Property</td>\n",
              "        <td>Mass Customer</td>\n",
              "        <td>N</td>\n",
              "        <td>1-Feb</td>\n",
              "        <td>Yes</td>\n",
              "        <td>15</td>\n",
              "    </tr>\n",
              "    <tr>\n",
              "        <td>4</td>\n",
              "        <td>5</td>\n",
              "        <td>Sheila-kathryn</td>\n",
              "        <td>Calton</td>\n",
              "        <td>Female</td>\n",
              "        <td>56</td>\n",
              "        <td>5/13/1977</td>\n",
              "        <td>Senior Editor</td>\n",
              "        <td>None</td>\n",
              "        <td>Affluent Customer</td>\n",
              "        <td>N</td>\n",
              "        <td>NIL</td>\n",
              "        <td>Yes</td>\n",
              "        <td>8</td>\n",
              "    </tr>\n",
              "    <tr>\n",
              "        <td>6</td>\n",
              "        <td>7</td>\n",
              "        <td>Fina</td>\n",
              "        <td>Merali</td>\n",
              "        <td>Female</td>\n",
              "        <td>6</td>\n",
              "        <td>2/23/1976</td>\n",
              "        <td>None</td>\n",
              "        <td>Financial Services</td>\n",
              "        <td>Affluent Customer</td>\n",
              "        <td>N</td>\n",
              "        <td>â°â´âµâââ</td>\n",
              "        <td>Yes</td>\n",
              "        <td>11</td>\n",
              "    </tr>\n",
              "    <tr>\n",
              "        <td>8</td>\n",
              "        <td>9</td>\n",
              "        <td>Mala</td>\n",
              "        <td>Lind</td>\n",
              "        <td>Female</td>\n",
              "        <td>97</td>\n",
              "        <td>3/10/1973</td>\n",
              "        <td>Business Systems Development Analyst</td>\n",
              "        <td>Argiculture</td>\n",
              "        <td>Affluent Customer</td>\n",
              "        <td>N</td>\n",
              "        <td>0/0</td>\n",
              "        <td>Yes</td>\n",
              "        <td>8</td>\n",
              "    </tr>\n",
              "</table>"
            ],
            "text/plain": [
              "[(0, 1, 'Laraine', 'Medendorp', 'F', 93, '10/12/1953', 'Executive Secretary', 'Health', 'Mass Customer', 'N', '\"\\'', 'Yes', 11),\n",
              " (2, 3, 'Arlin', 'Dearle', 'Male', 61, '1/20/1954', 'Recruiting Manager', 'Property', 'Mass Customer', 'N', '1-Feb', 'Yes', 15),\n",
              " (4, 5, 'Sheila-kathryn', 'Calton', 'Female', 56, '5/13/1977', 'Senior Editor', None, 'Affluent Customer', 'N', 'NIL', 'Yes', 8),\n",
              " (6, 7, 'Fina', 'Merali', 'Female', 6, '2/23/1976', None, 'Financial Services', 'Affluent Customer', 'N', 'â°â´âµâââ', 'Yes', 11),\n",
              " (8, 9, 'Mala', 'Lind', 'Female', 97, '3/10/1973', 'Business Systems Development Analyst', 'Argiculture', 'Affluent Customer', 'N', '0/0', 'Yes', 8)]"
            ]
          },
          "metadata": {
            "tags": []
          },
          "execution_count": 67
        }
      ]
    },
    {
      "cell_type": "markdown",
      "metadata": {
        "id": "Xj4eCC6s0HQP",
        "colab_type": "text"
      },
      "source": [
        "\n",
        "\n",
        "---\n",
        "\n"
      ]
    },
    {
      "cell_type": "markdown",
      "metadata": {
        "id": "jeRtQrg64dXL",
        "colab_type": "text"
      },
      "source": [
        "<br><em><font color = lightblue>Important: </em>RIGHT and FULL OUTER JOINs are not currently supported.  </font>\n",
        "\n",
        "however, if they were to be implemented, they would follow  hte same syntax af for the LEFT JOIN but replacing Left with RIGHT JOIN."
      ]
    },
    {
      "cell_type": "markdown",
      "metadata": {
        "id": "dL5wPmBEPIsK",
        "colab_type": "text"
      },
      "source": [
        "\n",
        "\n",
        "---\n",
        "\n"
      ]
    },
    {
      "cell_type": "markdown",
      "metadata": {
        "id": "s9owKsWp1Heo",
        "colab_type": "text"
      },
      "source": [
        "<br><em><font color = lightblue size=2>Note: Data sets used in this notebook are obtained with the permission from KPMG, an Australian partnership and a member firm of the KPMG network of independent member firms affiliated with KPMG International Cooperative (“KPMG International”), a Swiss entity and used for KPMG Virtual Internship learning purposes only.</em></font>\n"
      ]
    }
  ]
}